{
 "cells": [
  {
   "cell_type": "code",
   "execution_count": 17,
   "metadata": {
    "collapsed": true,
    "pycharm": {
     "name": "#%%\n"
    }
   },
   "outputs": [],
   "source": [
    "import pandas as pd\n",
    "import matplotlib.pyplot as plt\n",
    "from sklearn.ensemble import RandomTreesEmbedding, StackingClassifier\n",
    "from sklearn.model_selection import cross_val_predict\n",
    "\n",
    "from constants import *\n",
    "import numpy as np\n",
    "from shutil import make_archive, unpack_archive\n",
    "import time\n",
    "from time import perf_counter\n",
    "import warnings\n",
    "\n",
    "from src.calc_scores import get_X_train_X_test_y_train_y_test\n",
    "from pycaret.classification import *\n",
    "from sklearn.metrics import accuracy_score\n"
   ]
  },
  {
   "cell_type": "code",
   "execution_count": 18,
   "outputs": [
    {
     "name": "stdout",
     "output_type": "stream",
     "text": [
      "X_train shape: (2109, 60)\n",
      "target classes: \n",
      "1    1097\n",
      "0    1012\n",
      "Name: y, dtype: int64\n",
      "total 2 classes\n",
      "\n"
     ]
    }
   ],
   "source": [
    "dataset_id = \"3\"\n",
    "#dataset_id = \"40923\" # 1489 # 3\n",
    "\n",
    "# load data\n",
    "X_train, X_test, y_train, y_test = get_X_train_X_test_y_train_y_test(\n",
    "    dataset_folder=DATASETS_FOLDER_PATH.joinpath(dataset_id), random_state=RANDOM_STATE,\n",
    "    X_file_name=X_FILTERED_FILE_NAME, y_file_name=Y_FILE_NAME)\n",
    "\n",
    "# short feedback of the data and classes\n",
    "print(f\"X_train shape: {X_train.shape}\")\n",
    "print(f\"target classes: \\n{y_train.value_counts()}\")\n",
    "print(f\"total {len(y_train.value_counts())} classes\\n\")\n",
    "\n",
    "#sample if needed\n",
    "sample_size = 10_000\n",
    "\n",
    "if len(X_train) > sample_size:\n",
    "    warnings.warn(\n",
    "        f\"Sample is used of {sample_size}\")\n",
    "    X_train_sample = X_train.sample(n=sample_size, random_state=RANDOM_STATE)\n",
    "\n",
    "else:\n",
    "    X_train_sample = X_train\n",
    "\n",
    "feature_names = list(X_train.columns)\n",
    "\n",
    "# pycaret wants the target in a dataframe column\n",
    "X_train[\"y\"] = y_train\n",
    "X_test[\"y\"] = y_test\n",
    "pass"
   ],
   "metadata": {
    "collapsed": false,
    "pycharm": {
     "name": "#%%\n"
    }
   }
  },
  {
   "cell_type": "code",
   "execution_count": 19,
   "outputs": [
    {
     "data": {
      "text/plain": "                                     Name  \\\nID                                          \nlr                    Logistic Regression   \nknn                K Neighbors Classifier   \nnb                            Naive Bayes   \ndt               Decision Tree Classifier   \nsvm                   SVM - Linear Kernel   \nrbfsvm                SVM - Radial Kernel   \ngpc           Gaussian Process Classifier   \nmlp                        MLP Classifier   \nridge                    Ridge Classifier   \nrf               Random Forest Classifier   \nqda       Quadratic Discriminant Analysis   \nada                  Ada Boost Classifier   \ngbc          Gradient Boosting Classifier   \nlda          Linear Discriminant Analysis   \net                 Extra Trees Classifier   \nxgboost         Extreme Gradient Boosting   \nlightgbm  Light Gradient Boosting Machine   \ncatboost              CatBoost Classifier   \n\n                                                  Reference  Turbo  \nID                                                                  \nlr        sklearn.linear_model._logistic.LogisticRegression   True  \nknn       sklearn.neighbors._classification.KNeighborsCl...   True  \nnb                           sklearn.naive_bayes.GaussianNB   True  \ndt             sklearn.tree._classes.DecisionTreeClassifier   True  \nsvm       sklearn.linear_model._stochastic_gradient.SGDC...   True  \nrbfsvm                             sklearn.svm._classes.SVC  False  \ngpc       sklearn.gaussian_process._gpc.GaussianProcessC...  False  \nmlp           pycaret.internal.tunable.TunableMLPClassifier  False  \nridge           sklearn.linear_model._ridge.RidgeClassifier   True  \nrf          sklearn.ensemble._forest.RandomForestClassifier   True  \nqda       sklearn.discriminant_analysis.QuadraticDiscrim...   True  \nada       sklearn.ensemble._weight_boosting.AdaBoostClas...   True  \ngbc         sklearn.ensemble._gb.GradientBoostingClassifier   True  \nlda       sklearn.discriminant_analysis.LinearDiscrimina...   True  \net            sklearn.ensemble._forest.ExtraTreesClassifier   True  \nxgboost                       xgboost.sklearn.XGBClassifier   True  \nlightgbm                    lightgbm.sklearn.LGBMClassifier   True  \ncatboost                   catboost.core.CatBoostClassifier   True  ",
      "text/html": "<div>\n<style scoped>\n    .dataframe tbody tr th:only-of-type {\n        vertical-align: middle;\n    }\n\n    .dataframe tbody tr th {\n        vertical-align: top;\n    }\n\n    .dataframe thead th {\n        text-align: right;\n    }\n</style>\n<table border=\"1\" class=\"dataframe\">\n  <thead>\n    <tr style=\"text-align: right;\">\n      <th></th>\n      <th>Name</th>\n      <th>Reference</th>\n      <th>Turbo</th>\n    </tr>\n    <tr>\n      <th>ID</th>\n      <th></th>\n      <th></th>\n      <th></th>\n    </tr>\n  </thead>\n  <tbody>\n    <tr>\n      <th>lr</th>\n      <td>Logistic Regression</td>\n      <td>sklearn.linear_model._logistic.LogisticRegression</td>\n      <td>True</td>\n    </tr>\n    <tr>\n      <th>knn</th>\n      <td>K Neighbors Classifier</td>\n      <td>sklearn.neighbors._classification.KNeighborsCl...</td>\n      <td>True</td>\n    </tr>\n    <tr>\n      <th>nb</th>\n      <td>Naive Bayes</td>\n      <td>sklearn.naive_bayes.GaussianNB</td>\n      <td>True</td>\n    </tr>\n    <tr>\n      <th>dt</th>\n      <td>Decision Tree Classifier</td>\n      <td>sklearn.tree._classes.DecisionTreeClassifier</td>\n      <td>True</td>\n    </tr>\n    <tr>\n      <th>svm</th>\n      <td>SVM - Linear Kernel</td>\n      <td>sklearn.linear_model._stochastic_gradient.SGDC...</td>\n      <td>True</td>\n    </tr>\n    <tr>\n      <th>rbfsvm</th>\n      <td>SVM - Radial Kernel</td>\n      <td>sklearn.svm._classes.SVC</td>\n      <td>False</td>\n    </tr>\n    <tr>\n      <th>gpc</th>\n      <td>Gaussian Process Classifier</td>\n      <td>sklearn.gaussian_process._gpc.GaussianProcessC...</td>\n      <td>False</td>\n    </tr>\n    <tr>\n      <th>mlp</th>\n      <td>MLP Classifier</td>\n      <td>pycaret.internal.tunable.TunableMLPClassifier</td>\n      <td>False</td>\n    </tr>\n    <tr>\n      <th>ridge</th>\n      <td>Ridge Classifier</td>\n      <td>sklearn.linear_model._ridge.RidgeClassifier</td>\n      <td>True</td>\n    </tr>\n    <tr>\n      <th>rf</th>\n      <td>Random Forest Classifier</td>\n      <td>sklearn.ensemble._forest.RandomForestClassifier</td>\n      <td>True</td>\n    </tr>\n    <tr>\n      <th>qda</th>\n      <td>Quadratic Discriminant Analysis</td>\n      <td>sklearn.discriminant_analysis.QuadraticDiscrim...</td>\n      <td>True</td>\n    </tr>\n    <tr>\n      <th>ada</th>\n      <td>Ada Boost Classifier</td>\n      <td>sklearn.ensemble._weight_boosting.AdaBoostClas...</td>\n      <td>True</td>\n    </tr>\n    <tr>\n      <th>gbc</th>\n      <td>Gradient Boosting Classifier</td>\n      <td>sklearn.ensemble._gb.GradientBoostingClassifier</td>\n      <td>True</td>\n    </tr>\n    <tr>\n      <th>lda</th>\n      <td>Linear Discriminant Analysis</td>\n      <td>sklearn.discriminant_analysis.LinearDiscrimina...</td>\n      <td>True</td>\n    </tr>\n    <tr>\n      <th>et</th>\n      <td>Extra Trees Classifier</td>\n      <td>sklearn.ensemble._forest.ExtraTreesClassifier</td>\n      <td>True</td>\n    </tr>\n    <tr>\n      <th>xgboost</th>\n      <td>Extreme Gradient Boosting</td>\n      <td>xgboost.sklearn.XGBClassifier</td>\n      <td>True</td>\n    </tr>\n    <tr>\n      <th>lightgbm</th>\n      <td>Light Gradient Boosting Machine</td>\n      <td>lightgbm.sklearn.LGBMClassifier</td>\n      <td>True</td>\n    </tr>\n    <tr>\n      <th>catboost</th>\n      <td>CatBoost Classifier</td>\n      <td>catboost.core.CatBoostClassifier</td>\n      <td>True</td>\n    </tr>\n  </tbody>\n</table>\n</div>"
     },
     "execution_count": 19,
     "metadata": {},
     "output_type": "execute_result"
    }
   ],
   "source": [
    "models()"
   ],
   "metadata": {
    "collapsed": false,
    "pycharm": {
     "name": "#%%\n"
    }
   }
  },
  {
   "cell_type": "code",
   "execution_count": 20,
   "outputs": [
    {
     "data": {
      "text/plain": "<pandas.io.formats.style.Styler at 0x15e822f4ac0>",
      "text/html": "<style type=\"text/css\">\n</style>\n<table id=\"T_87d5c\">\n  <thead>\n    <tr>\n      <th class=\"blank level0\" >&nbsp;</th>\n      <th id=\"T_87d5c_level0_col0\" class=\"col_heading level0 col0\" >Description</th>\n      <th id=\"T_87d5c_level0_col1\" class=\"col_heading level0 col1\" >Value</th>\n    </tr>\n  </thead>\n  <tbody>\n    <tr>\n      <th id=\"T_87d5c_level0_row0\" class=\"row_heading level0 row0\" >0</th>\n      <td id=\"T_87d5c_row0_col0\" class=\"data row0 col0\" >session_id</td>\n      <td id=\"T_87d5c_row0_col1\" class=\"data row0 col1\" >42</td>\n    </tr>\n    <tr>\n      <th id=\"T_87d5c_level0_row1\" class=\"row_heading level0 row1\" >1</th>\n      <td id=\"T_87d5c_row1_col0\" class=\"data row1 col0\" >Target</td>\n      <td id=\"T_87d5c_row1_col1\" class=\"data row1 col1\" >y</td>\n    </tr>\n    <tr>\n      <th id=\"T_87d5c_level0_row2\" class=\"row_heading level0 row2\" >2</th>\n      <td id=\"T_87d5c_row2_col0\" class=\"data row2 col0\" >Target Type</td>\n      <td id=\"T_87d5c_row2_col1\" class=\"data row2 col1\" >Binary</td>\n    </tr>\n    <tr>\n      <th id=\"T_87d5c_level0_row3\" class=\"row_heading level0 row3\" >3</th>\n      <td id=\"T_87d5c_row3_col0\" class=\"data row3 col0\" >Label Encoded</td>\n      <td id=\"T_87d5c_row3_col1\" class=\"data row3 col1\" >None</td>\n    </tr>\n    <tr>\n      <th id=\"T_87d5c_level0_row4\" class=\"row_heading level0 row4\" >4</th>\n      <td id=\"T_87d5c_row4_col0\" class=\"data row4 col0\" >Original Data</td>\n      <td id=\"T_87d5c_row4_col1\" class=\"data row4 col1\" >(2109, 61)</td>\n    </tr>\n    <tr>\n      <th id=\"T_87d5c_level0_row5\" class=\"row_heading level0 row5\" >5</th>\n      <td id=\"T_87d5c_row5_col0\" class=\"data row5 col0\" >Missing Values</td>\n      <td id=\"T_87d5c_row5_col1\" class=\"data row5 col1\" >False</td>\n    </tr>\n    <tr>\n      <th id=\"T_87d5c_level0_row6\" class=\"row_heading level0 row6\" >6</th>\n      <td id=\"T_87d5c_row6_col0\" class=\"data row6 col0\" >Numeric Features</td>\n      <td id=\"T_87d5c_row6_col1\" class=\"data row6 col1\" >60</td>\n    </tr>\n    <tr>\n      <th id=\"T_87d5c_level0_row7\" class=\"row_heading level0 row7\" >7</th>\n      <td id=\"T_87d5c_row7_col0\" class=\"data row7 col0\" >Categorical Features</td>\n      <td id=\"T_87d5c_row7_col1\" class=\"data row7 col1\" >0</td>\n    </tr>\n    <tr>\n      <th id=\"T_87d5c_level0_row8\" class=\"row_heading level0 row8\" >8</th>\n      <td id=\"T_87d5c_row8_col0\" class=\"data row8 col0\" >Transformed Train Set</td>\n      <td id=\"T_87d5c_row8_col1\" class=\"data row8 col1\" >(2109, 60)</td>\n    </tr>\n    <tr>\n      <th id=\"T_87d5c_level0_row9\" class=\"row_heading level0 row9\" >9</th>\n      <td id=\"T_87d5c_row9_col0\" class=\"data row9 col0\" >Transformed Test Set</td>\n      <td id=\"T_87d5c_row9_col1\" class=\"data row9 col1\" >(1087, 60)</td>\n    </tr>\n    <tr>\n      <th id=\"T_87d5c_level0_row10\" class=\"row_heading level0 row10\" >10</th>\n      <td id=\"T_87d5c_row10_col0\" class=\"data row10 col0\" >Shuffle Train-Test</td>\n      <td id=\"T_87d5c_row10_col1\" class=\"data row10 col1\" >True</td>\n    </tr>\n    <tr>\n      <th id=\"T_87d5c_level0_row11\" class=\"row_heading level0 row11\" >11</th>\n      <td id=\"T_87d5c_row11_col0\" class=\"data row11 col0\" >Stratify Train-Test</td>\n      <td id=\"T_87d5c_row11_col1\" class=\"data row11 col1\" >False</td>\n    </tr>\n    <tr>\n      <th id=\"T_87d5c_level0_row12\" class=\"row_heading level0 row12\" >12</th>\n      <td id=\"T_87d5c_row12_col0\" class=\"data row12 col0\" >Fold Generator</td>\n      <td id=\"T_87d5c_row12_col1\" class=\"data row12 col1\" >StratifiedKFold</td>\n    </tr>\n    <tr>\n      <th id=\"T_87d5c_level0_row13\" class=\"row_heading level0 row13\" >13</th>\n      <td id=\"T_87d5c_row13_col0\" class=\"data row13 col0\" >Fold Number</td>\n      <td id=\"T_87d5c_row13_col1\" class=\"data row13 col1\" >5</td>\n    </tr>\n    <tr>\n      <th id=\"T_87d5c_level0_row14\" class=\"row_heading level0 row14\" >14</th>\n      <td id=\"T_87d5c_row14_col0\" class=\"data row14 col0\" >CPU Jobs</td>\n      <td id=\"T_87d5c_row14_col1\" class=\"data row14 col1\" >-1</td>\n    </tr>\n    <tr>\n      <th id=\"T_87d5c_level0_row15\" class=\"row_heading level0 row15\" >15</th>\n      <td id=\"T_87d5c_row15_col0\" class=\"data row15 col0\" >Use GPU</td>\n      <td id=\"T_87d5c_row15_col1\" class=\"data row15 col1\" >False</td>\n    </tr>\n    <tr>\n      <th id=\"T_87d5c_level0_row16\" class=\"row_heading level0 row16\" >16</th>\n      <td id=\"T_87d5c_row16_col0\" class=\"data row16 col0\" >Log Experiment</td>\n      <td id=\"T_87d5c_row16_col1\" class=\"data row16 col1\" >False</td>\n    </tr>\n    <tr>\n      <th id=\"T_87d5c_level0_row17\" class=\"row_heading level0 row17\" >17</th>\n      <td id=\"T_87d5c_row17_col0\" class=\"data row17 col0\" >Experiment Name</td>\n      <td id=\"T_87d5c_row17_col1\" class=\"data row17 col1\" >clf-default-name</td>\n    </tr>\n    <tr>\n      <th id=\"T_87d5c_level0_row18\" class=\"row_heading level0 row18\" >18</th>\n      <td id=\"T_87d5c_row18_col0\" class=\"data row18 col0\" >USI</td>\n      <td id=\"T_87d5c_row18_col1\" class=\"data row18 col1\" >26fb</td>\n    </tr>\n    <tr>\n      <th id=\"T_87d5c_level0_row19\" class=\"row_heading level0 row19\" >19</th>\n      <td id=\"T_87d5c_row19_col0\" class=\"data row19 col0\" >Fix Imbalance</td>\n      <td id=\"T_87d5c_row19_col1\" class=\"data row19 col1\" >False</td>\n    </tr>\n    <tr>\n      <th id=\"T_87d5c_level0_row20\" class=\"row_heading level0 row20\" >20</th>\n      <td id=\"T_87d5c_row20_col0\" class=\"data row20 col0\" >Fix Imbalance Method</td>\n      <td id=\"T_87d5c_row20_col1\" class=\"data row20 col1\" >SMOTE</td>\n    </tr>\n  </tbody>\n</table>\n"
     },
     "metadata": {},
     "output_type": "display_data"
    }
   ],
   "source": [
    "experiment = setup(\n",
    "    data=X_train,\n",
    "    target=\"y\",\n",
    "    test_data=X_test,\n",
    "    preprocess=False,\n",
    "    #data_split_shuffle=False,\n",
    "    #n_jobs=-1,\n",
    "    # session_id=RANDOM_STATE # maybe a bug so do not set the random state. ERROR:\n",
    "    fold=5,\n",
    "    fold_shuffle=True, # must be set because of this bug which leads from pycaret is not adjustd to sklearn version 1? ValueError: Setting a random_state has no effect since shuffle is False. You should leave random_state to its default (None), or set shuffle=True. Info from here: https://stackoverflow.com/questions/67728802/valueerror-setting-a-random-state-has-no-effect-since-shuffle-is-false-you-sho\n",
    "    numeric_features=feature_names,  # force all features to be regarded as numeric not categorical which avoids problems with xgboost and lightgbm\n",
    "    session_id=42,\n",
    ")\n"
   ],
   "metadata": {
    "collapsed": false,
    "pycharm": {
     "name": "#%%\n"
    }
   }
  },
  {
   "cell_type": "markdown",
   "source": [
    "## Train Models"
   ],
   "metadata": {
    "collapsed": false,
    "pycharm": {
     "name": "#%% md\n"
    }
   }
  },
  {
   "cell_type": "code",
   "execution_count": 21,
   "outputs": [
    {
     "data": {
      "text/plain": "<pandas.io.formats.style.Styler at 0x15eedabcf10>",
      "text/html": "<style type=\"text/css\">\n#T_2a11e th {\n  text-align: left;\n}\n#T_2a11e_row0_col0, #T_2a11e_row0_col4, #T_2a11e_row1_col0, #T_2a11e_row1_col1, #T_2a11e_row1_col2, #T_2a11e_row1_col3, #T_2a11e_row1_col4, #T_2a11e_row1_col5, #T_2a11e_row1_col6, #T_2a11e_row1_col7, #T_2a11e_row2_col0, #T_2a11e_row2_col1, #T_2a11e_row2_col2, #T_2a11e_row2_col3, #T_2a11e_row2_col4, #T_2a11e_row2_col5, #T_2a11e_row2_col6, #T_2a11e_row2_col7, #T_2a11e_row3_col0, #T_2a11e_row3_col1, #T_2a11e_row3_col3, #T_2a11e_row3_col4, #T_2a11e_row3_col5, #T_2a11e_row3_col6, #T_2a11e_row3_col7, #T_2a11e_row4_col0, #T_2a11e_row4_col1, #T_2a11e_row4_col2, #T_2a11e_row4_col3, #T_2a11e_row4_col5, #T_2a11e_row4_col6, #T_2a11e_row4_col7, #T_2a11e_row5_col0, #T_2a11e_row5_col1, #T_2a11e_row5_col2, #T_2a11e_row5_col3, #T_2a11e_row5_col4, #T_2a11e_row5_col5, #T_2a11e_row5_col6, #T_2a11e_row5_col7, #T_2a11e_row6_col0, #T_2a11e_row6_col1, #T_2a11e_row6_col2, #T_2a11e_row6_col3, #T_2a11e_row6_col4, #T_2a11e_row6_col5, #T_2a11e_row6_col6, #T_2a11e_row6_col7 {\n  text-align: left;\n}\n#T_2a11e_row0_col1, #T_2a11e_row0_col2, #T_2a11e_row0_col3, #T_2a11e_row0_col5, #T_2a11e_row0_col6, #T_2a11e_row0_col7, #T_2a11e_row3_col2, #T_2a11e_row4_col4 {\n  text-align: left;\n  background-color: yellow;\n}\n#T_2a11e_row0_col8 {\n  text-align: left;\n  background-color: yellow;\n  background-color: lightgrey;\n}\n#T_2a11e_row1_col8, #T_2a11e_row2_col8, #T_2a11e_row3_col8, #T_2a11e_row4_col8, #T_2a11e_row5_col8, #T_2a11e_row6_col8 {\n  text-align: left;\n  background-color: lightgrey;\n}\n</style>\n<table id=\"T_2a11e\">\n  <thead>\n    <tr>\n      <th class=\"blank level0\" >&nbsp;</th>\n      <th id=\"T_2a11e_level0_col0\" class=\"col_heading level0 col0\" >Model</th>\n      <th id=\"T_2a11e_level0_col1\" class=\"col_heading level0 col1\" >Accuracy</th>\n      <th id=\"T_2a11e_level0_col2\" class=\"col_heading level0 col2\" >AUC</th>\n      <th id=\"T_2a11e_level0_col3\" class=\"col_heading level0 col3\" >Recall</th>\n      <th id=\"T_2a11e_level0_col4\" class=\"col_heading level0 col4\" >Prec.</th>\n      <th id=\"T_2a11e_level0_col5\" class=\"col_heading level0 col5\" >F1</th>\n      <th id=\"T_2a11e_level0_col6\" class=\"col_heading level0 col6\" >Kappa</th>\n      <th id=\"T_2a11e_level0_col7\" class=\"col_heading level0 col7\" >MCC</th>\n      <th id=\"T_2a11e_level0_col8\" class=\"col_heading level0 col8\" >TT (Sec)</th>\n    </tr>\n  </thead>\n  <tbody>\n    <tr>\n      <th id=\"T_2a11e_level0_row0\" class=\"row_heading level0 row0\" >lightgbm</th>\n      <td id=\"T_2a11e_row0_col0\" class=\"data row0 col0\" >Light Gradient Boosting Machine</td>\n      <td id=\"T_2a11e_row0_col1\" class=\"data row0 col1\" >0.9839</td>\n      <td id=\"T_2a11e_row0_col2\" class=\"data row0 col2\" >0.9989</td>\n      <td id=\"T_2a11e_row0_col3\" class=\"data row0 col3\" >0.9845</td>\n      <td id=\"T_2a11e_row0_col4\" class=\"data row0 col4\" >0.9846</td>\n      <td id=\"T_2a11e_row0_col5\" class=\"data row0 col5\" >0.9845</td>\n      <td id=\"T_2a11e_row0_col6\" class=\"data row0 col6\" >0.9677</td>\n      <td id=\"T_2a11e_row0_col7\" class=\"data row0 col7\" >0.9678</td>\n      <td id=\"T_2a11e_row0_col8\" class=\"data row0 col8\" >0.0300</td>\n    </tr>\n    <tr>\n      <th id=\"T_2a11e_level0_row1\" class=\"row_heading level0 row1\" >catboost</th>\n      <td id=\"T_2a11e_row1_col0\" class=\"data row1 col0\" >CatBoost Classifier</td>\n      <td id=\"T_2a11e_row1_col1\" class=\"data row1 col1\" >0.9834</td>\n      <td id=\"T_2a11e_row1_col2\" class=\"data row1 col2\" >0.9988</td>\n      <td id=\"T_2a11e_row1_col3\" class=\"data row1 col3\" >0.9827</td>\n      <td id=\"T_2a11e_row1_col4\" class=\"data row1 col4\" >0.9855</td>\n      <td id=\"T_2a11e_row1_col5\" class=\"data row1 col5\" >0.9840</td>\n      <td id=\"T_2a11e_row1_col6\" class=\"data row1 col6\" >0.9668</td>\n      <td id=\"T_2a11e_row1_col7\" class=\"data row1 col7\" >0.9669</td>\n      <td id=\"T_2a11e_row1_col8\" class=\"data row1 col8\" >0.7400</td>\n    </tr>\n    <tr>\n      <th id=\"T_2a11e_level0_row2\" class=\"row_heading level0 row2\" >rf</th>\n      <td id=\"T_2a11e_row2_col0\" class=\"data row2 col0\" >Random Forest Classifier</td>\n      <td id=\"T_2a11e_row2_col1\" class=\"data row2 col1\" >0.9820</td>\n      <td id=\"T_2a11e_row2_col2\" class=\"data row2 col2\" >0.9961</td>\n      <td id=\"T_2a11e_row2_col3\" class=\"data row2 col3\" >0.9818</td>\n      <td id=\"T_2a11e_row2_col4\" class=\"data row2 col4\" >0.9837</td>\n      <td id=\"T_2a11e_row2_col5\" class=\"data row2 col5\" >0.9827</td>\n      <td id=\"T_2a11e_row2_col6\" class=\"data row2 col6\" >0.9639</td>\n      <td id=\"T_2a11e_row2_col7\" class=\"data row2 col7\" >0.9641</td>\n      <td id=\"T_2a11e_row2_col8\" class=\"data row2 col8\" >0.7360</td>\n    </tr>\n    <tr>\n      <th id=\"T_2a11e_level0_row3\" class=\"row_heading level0 row3\" >xgboost</th>\n      <td id=\"T_2a11e_row3_col0\" class=\"data row3 col0\" >Extreme Gradient Boosting</td>\n      <td id=\"T_2a11e_row3_col1\" class=\"data row3 col1\" >0.9820</td>\n      <td id=\"T_2a11e_row3_col2\" class=\"data row3 col2\" >0.9989</td>\n      <td id=\"T_2a11e_row3_col3\" class=\"data row3 col3\" >0.9818</td>\n      <td id=\"T_2a11e_row3_col4\" class=\"data row3 col4\" >0.9837</td>\n      <td id=\"T_2a11e_row3_col5\" class=\"data row3 col5\" >0.9827</td>\n      <td id=\"T_2a11e_row3_col6\" class=\"data row3 col6\" >0.9639</td>\n      <td id=\"T_2a11e_row3_col7\" class=\"data row3 col7\" >0.9640</td>\n      <td id=\"T_2a11e_row3_col8\" class=\"data row3 col8\" >0.1020</td>\n    </tr>\n    <tr>\n      <th id=\"T_2a11e_level0_row4\" class=\"row_heading level0 row4\" >dt</th>\n      <td id=\"T_2a11e_row4_col0\" class=\"data row4 col0\" >Decision Tree Classifier</td>\n      <td id=\"T_2a11e_row4_col1\" class=\"data row4 col1\" >0.9806</td>\n      <td id=\"T_2a11e_row4_col2\" class=\"data row4 col2\" >0.9857</td>\n      <td id=\"T_2a11e_row4_col3\" class=\"data row4 col3\" >0.9763</td>\n      <td id=\"T_2a11e_row4_col4\" class=\"data row4 col4\" >0.9863</td>\n      <td id=\"T_2a11e_row4_col5\" class=\"data row4 col5\" >0.9812</td>\n      <td id=\"T_2a11e_row4_col6\" class=\"data row4 col6\" >0.9611</td>\n      <td id=\"T_2a11e_row4_col7\" class=\"data row4 col7\" >0.9612</td>\n      <td id=\"T_2a11e_row4_col8\" class=\"data row4 col8\" >0.3280</td>\n    </tr>\n    <tr>\n      <th id=\"T_2a11e_level0_row5\" class=\"row_heading level0 row5\" >lr</th>\n      <td id=\"T_2a11e_row5_col0\" class=\"data row5 col0\" >Logistic Regression</td>\n      <td id=\"T_2a11e_row5_col1\" class=\"data row5 col1\" >0.9592</td>\n      <td id=\"T_2a11e_row5_col2\" class=\"data row5 col2\" >0.9927</td>\n      <td id=\"T_2a11e_row5_col3\" class=\"data row5 col3\" >0.9590</td>\n      <td id=\"T_2a11e_row5_col4\" class=\"data row5 col4\" >0.9628</td>\n      <td id=\"T_2a11e_row5_col5\" class=\"data row5 col5\" >0.9607</td>\n      <td id=\"T_2a11e_row5_col6\" class=\"data row5 col6\" >0.9183</td>\n      <td id=\"T_2a11e_row5_col7\" class=\"data row5 col7\" >0.9186</td>\n      <td id=\"T_2a11e_row5_col8\" class=\"data row5 col8\" >0.3960</td>\n    </tr>\n    <tr>\n      <th id=\"T_2a11e_level0_row6\" class=\"row_heading level0 row6\" >knn</th>\n      <td id=\"T_2a11e_row6_col0\" class=\"data row6 col0\" >K Neighbors Classifier</td>\n      <td id=\"T_2a11e_row6_col1\" class=\"data row6 col1\" >0.9298</td>\n      <td id=\"T_2a11e_row6_col2\" class=\"data row6 col2\" >0.9720</td>\n      <td id=\"T_2a11e_row6_col3\" class=\"data row6 col3\" >0.9353</td>\n      <td id=\"T_2a11e_row6_col4\" class=\"data row6 col4\" >0.9302</td>\n      <td id=\"T_2a11e_row6_col5\" class=\"data row6 col5\" >0.9327</td>\n      <td id=\"T_2a11e_row6_col6\" class=\"data row6 col6\" >0.8593</td>\n      <td id=\"T_2a11e_row6_col7\" class=\"data row6 col7\" >0.8594</td>\n      <td id=\"T_2a11e_row6_col8\" class=\"data row6 col8\" >0.4100</td>\n    </tr>\n  </tbody>\n</table>\n"
     },
     "metadata": {},
     "output_type": "display_data"
    }
   ],
   "source": [
    "model_types_to_use = [\n",
    "    \"rf\",\n",
    "    \"lr\",\n",
    "    \"knn\",\n",
    "    #\"mlp\",\n",
    "    \"dt\",\n",
    "    \"xgboost\",\n",
    "    \"lightgbm\",\n",
    "    \"catboost\",\n",
    "]\n",
    "\n",
    "selected_models = compare_models(include=model_types_to_use,\n",
    "errors=\"raise\",\n",
    "n_select=len(model_types_to_use)  # all models included\n",
    ")"
   ],
   "metadata": {
    "collapsed": false,
    "pycharm": {
     "name": "#%%\n"
    }
   }
  },
  {
   "cell_type": "code",
   "execution_count": 28,
   "outputs": [
    {
     "data": {
      "text/plain": "<pandas.io.formats.style.Styler at 0x15e80dfef70>",
      "text/html": "<style type=\"text/css\">\n</style>\n<table id=\"T_5f267\">\n  <thead>\n    <tr>\n      <th class=\"blank level0\" >&nbsp;</th>\n      <th id=\"T_5f267_level0_col0\" class=\"col_heading level0 col0\" >Model</th>\n      <th id=\"T_5f267_level0_col1\" class=\"col_heading level0 col1\" >Accuracy</th>\n      <th id=\"T_5f267_level0_col2\" class=\"col_heading level0 col2\" >AUC</th>\n      <th id=\"T_5f267_level0_col3\" class=\"col_heading level0 col3\" >Recall</th>\n      <th id=\"T_5f267_level0_col4\" class=\"col_heading level0 col4\" >Prec.</th>\n      <th id=\"T_5f267_level0_col5\" class=\"col_heading level0 col5\" >F1</th>\n      <th id=\"T_5f267_level0_col6\" class=\"col_heading level0 col6\" >Kappa</th>\n      <th id=\"T_5f267_level0_col7\" class=\"col_heading level0 col7\" >MCC</th>\n    </tr>\n  </thead>\n  <tbody>\n    <tr>\n      <th id=\"T_5f267_level0_row0\" class=\"row_heading level0 row0\" >0</th>\n      <td id=\"T_5f267_row0_col0\" class=\"data row0 col0\" >Light Gradient Boosting Machine</td>\n      <td id=\"T_5f267_row0_col1\" class=\"data row0 col1\" >0.9788</td>\n      <td id=\"T_5f267_row0_col2\" class=\"data row0 col2\" >0.9989</td>\n      <td id=\"T_5f267_row0_col3\" class=\"data row0 col3\" >0.9843</td>\n      <td id=\"T_5f267_row0_col4\" class=\"data row0 col4\" >0.9757</td>\n      <td id=\"T_5f267_row0_col5\" class=\"data row0 col5\" >0.9800</td>\n      <td id=\"T_5f267_row0_col6\" class=\"data row0 col6\" >0.9575</td>\n      <td id=\"T_5f267_row0_col7\" class=\"data row0 col7\" >0.9576</td>\n    </tr>\n  </tbody>\n</table>\n"
     },
     "metadata": {},
     "output_type": "display_data"
    },
    {
     "data": {
      "text/plain": "<pandas.io.formats.style.Styler at 0x15e80037130>",
      "text/html": "<style type=\"text/css\">\n</style>\n<table id=\"T_66ef8\">\n  <thead>\n    <tr>\n      <th class=\"blank level0\" >&nbsp;</th>\n      <th id=\"T_66ef8_level0_col0\" class=\"col_heading level0 col0\" >Model</th>\n      <th id=\"T_66ef8_level0_col1\" class=\"col_heading level0 col1\" >Accuracy</th>\n      <th id=\"T_66ef8_level0_col2\" class=\"col_heading level0 col2\" >AUC</th>\n      <th id=\"T_66ef8_level0_col3\" class=\"col_heading level0 col3\" >Recall</th>\n      <th id=\"T_66ef8_level0_col4\" class=\"col_heading level0 col4\" >Prec.</th>\n      <th id=\"T_66ef8_level0_col5\" class=\"col_heading level0 col5\" >F1</th>\n      <th id=\"T_66ef8_level0_col6\" class=\"col_heading level0 col6\" >Kappa</th>\n      <th id=\"T_66ef8_level0_col7\" class=\"col_heading level0 col7\" >MCC</th>\n    </tr>\n  </thead>\n  <tbody>\n    <tr>\n      <th id=\"T_66ef8_level0_row0\" class=\"row_heading level0 row0\" >0</th>\n      <td id=\"T_66ef8_row0_col0\" class=\"data row0 col0\" >CatBoost Classifier</td>\n      <td id=\"T_66ef8_row0_col1\" class=\"data row0 col1\" >0.9779</td>\n      <td id=\"T_66ef8_row0_col2\" class=\"data row0 col2\" >0.9989</td>\n      <td id=\"T_66ef8_row0_col3\" class=\"data row0 col3\" >0.9843</td>\n      <td id=\"T_66ef8_row0_col4\" class=\"data row0 col4\" >0.9740</td>\n      <td id=\"T_66ef8_row0_col5\" class=\"data row0 col5\" >0.9791</td>\n      <td id=\"T_66ef8_row0_col6\" class=\"data row0 col6\" >0.9557</td>\n      <td id=\"T_66ef8_row0_col7\" class=\"data row0 col7\" >0.9558</td>\n    </tr>\n  </tbody>\n</table>\n"
     },
     "metadata": {},
     "output_type": "display_data"
    },
    {
     "data": {
      "text/plain": "<pandas.io.formats.style.Styler at 0x15e8122a5e0>",
      "text/html": "<style type=\"text/css\">\n</style>\n<table id=\"T_64d5b\">\n  <thead>\n    <tr>\n      <th class=\"blank level0\" >&nbsp;</th>\n      <th id=\"T_64d5b_level0_col0\" class=\"col_heading level0 col0\" >Model</th>\n      <th id=\"T_64d5b_level0_col1\" class=\"col_heading level0 col1\" >Accuracy</th>\n      <th id=\"T_64d5b_level0_col2\" class=\"col_heading level0 col2\" >AUC</th>\n      <th id=\"T_64d5b_level0_col3\" class=\"col_heading level0 col3\" >Recall</th>\n      <th id=\"T_64d5b_level0_col4\" class=\"col_heading level0 col4\" >Prec.</th>\n      <th id=\"T_64d5b_level0_col5\" class=\"col_heading level0 col5\" >F1</th>\n      <th id=\"T_64d5b_level0_col6\" class=\"col_heading level0 col6\" >Kappa</th>\n      <th id=\"T_64d5b_level0_col7\" class=\"col_heading level0 col7\" >MCC</th>\n    </tr>\n  </thead>\n  <tbody>\n    <tr>\n      <th id=\"T_64d5b_level0_row0\" class=\"row_heading level0 row0\" >0</th>\n      <td id=\"T_64d5b_row0_col0\" class=\"data row0 col0\" >Random Forest Classifier</td>\n      <td id=\"T_64d5b_row0_col1\" class=\"data row0 col1\" >0.9761</td>\n      <td id=\"T_64d5b_row0_col2\" class=\"data row0 col2\" >0.9984</td>\n      <td id=\"T_64d5b_row0_col3\" class=\"data row0 col3\" >0.9825</td>\n      <td id=\"T_64d5b_row0_col4\" class=\"data row0 col4\" >0.9723</td>\n      <td id=\"T_64d5b_row0_col5\" class=\"data row0 col5\" >0.9774</td>\n      <td id=\"T_64d5b_row0_col6\" class=\"data row0 col6\" >0.9520</td>\n      <td id=\"T_64d5b_row0_col7\" class=\"data row0 col7\" >0.9521</td>\n    </tr>\n  </tbody>\n</table>\n"
     },
     "metadata": {},
     "output_type": "display_data"
    },
    {
     "data": {
      "text/plain": "<pandas.io.formats.style.Styler at 0x15e80060370>",
      "text/html": "<style type=\"text/css\">\n</style>\n<table id=\"T_52e04\">\n  <thead>\n    <tr>\n      <th class=\"blank level0\" >&nbsp;</th>\n      <th id=\"T_52e04_level0_col0\" class=\"col_heading level0 col0\" >Model</th>\n      <th id=\"T_52e04_level0_col1\" class=\"col_heading level0 col1\" >Accuracy</th>\n      <th id=\"T_52e04_level0_col2\" class=\"col_heading level0 col2\" >AUC</th>\n      <th id=\"T_52e04_level0_col3\" class=\"col_heading level0 col3\" >Recall</th>\n      <th id=\"T_52e04_level0_col4\" class=\"col_heading level0 col4\" >Prec.</th>\n      <th id=\"T_52e04_level0_col5\" class=\"col_heading level0 col5\" >F1</th>\n      <th id=\"T_52e04_level0_col6\" class=\"col_heading level0 col6\" >Kappa</th>\n      <th id=\"T_52e04_level0_col7\" class=\"col_heading level0 col7\" >MCC</th>\n    </tr>\n  </thead>\n  <tbody>\n    <tr>\n      <th id=\"T_52e04_level0_row0\" class=\"row_heading level0 row0\" >0</th>\n      <td id=\"T_52e04_row0_col0\" class=\"data row0 col0\" >Extreme Gradient Boosting</td>\n      <td id=\"T_52e04_row0_col1\" class=\"data row0 col1\" >0.9788</td>\n      <td id=\"T_52e04_row0_col2\" class=\"data row0 col2\" >0.9989</td>\n      <td id=\"T_52e04_row0_col3\" class=\"data row0 col3\" >0.9843</td>\n      <td id=\"T_52e04_row0_col4\" class=\"data row0 col4\" >0.9757</td>\n      <td id=\"T_52e04_row0_col5\" class=\"data row0 col5\" >0.9800</td>\n      <td id=\"T_52e04_row0_col6\" class=\"data row0 col6\" >0.9575</td>\n      <td id=\"T_52e04_row0_col7\" class=\"data row0 col7\" >0.9576</td>\n    </tr>\n  </tbody>\n</table>\n"
     },
     "metadata": {},
     "output_type": "display_data"
    },
    {
     "data": {
      "text/plain": "<pandas.io.formats.style.Styler at 0x15e81255be0>",
      "text/html": "<style type=\"text/css\">\n</style>\n<table id=\"T_23754\">\n  <thead>\n    <tr>\n      <th class=\"blank level0\" >&nbsp;</th>\n      <th id=\"T_23754_level0_col0\" class=\"col_heading level0 col0\" >Model</th>\n      <th id=\"T_23754_level0_col1\" class=\"col_heading level0 col1\" >Accuracy</th>\n      <th id=\"T_23754_level0_col2\" class=\"col_heading level0 col2\" >AUC</th>\n      <th id=\"T_23754_level0_col3\" class=\"col_heading level0 col3\" >Recall</th>\n      <th id=\"T_23754_level0_col4\" class=\"col_heading level0 col4\" >Prec.</th>\n      <th id=\"T_23754_level0_col5\" class=\"col_heading level0 col5\" >F1</th>\n      <th id=\"T_23754_level0_col6\" class=\"col_heading level0 col6\" >Kappa</th>\n      <th id=\"T_23754_level0_col7\" class=\"col_heading level0 col7\" >MCC</th>\n    </tr>\n  </thead>\n  <tbody>\n    <tr>\n      <th id=\"T_23754_level0_row0\" class=\"row_heading level0 row0\" >0</th>\n      <td id=\"T_23754_row0_col0\" class=\"data row0 col0\" >Decision Tree Classifier</td>\n      <td id=\"T_23754_row0_col1\" class=\"data row0 col1\" >0.9779</td>\n      <td id=\"T_23754_row0_col2\" class=\"data row0 col2\" >0.9800</td>\n      <td id=\"T_23754_row0_col3\" class=\"data row0 col3\" >0.9843</td>\n      <td id=\"T_23754_row0_col4\" class=\"data row0 col4\" >0.9740</td>\n      <td id=\"T_23754_row0_col5\" class=\"data row0 col5\" >0.9791</td>\n      <td id=\"T_23754_row0_col6\" class=\"data row0 col6\" >0.9557</td>\n      <td id=\"T_23754_row0_col7\" class=\"data row0 col7\" >0.9558</td>\n    </tr>\n  </tbody>\n</table>\n"
     },
     "metadata": {},
     "output_type": "display_data"
    },
    {
     "data": {
      "text/plain": "<pandas.io.formats.style.Styler at 0x15ee9501790>",
      "text/html": "<style type=\"text/css\">\n</style>\n<table id=\"T_b90ee\">\n  <thead>\n    <tr>\n      <th class=\"blank level0\" >&nbsp;</th>\n      <th id=\"T_b90ee_level0_col0\" class=\"col_heading level0 col0\" >Model</th>\n      <th id=\"T_b90ee_level0_col1\" class=\"col_heading level0 col1\" >Accuracy</th>\n      <th id=\"T_b90ee_level0_col2\" class=\"col_heading level0 col2\" >AUC</th>\n      <th id=\"T_b90ee_level0_col3\" class=\"col_heading level0 col3\" >Recall</th>\n      <th id=\"T_b90ee_level0_col4\" class=\"col_heading level0 col4\" >Prec.</th>\n      <th id=\"T_b90ee_level0_col5\" class=\"col_heading level0 col5\" >F1</th>\n      <th id=\"T_b90ee_level0_col6\" class=\"col_heading level0 col6\" >Kappa</th>\n      <th id=\"T_b90ee_level0_col7\" class=\"col_heading level0 col7\" >MCC</th>\n    </tr>\n  </thead>\n  <tbody>\n    <tr>\n      <th id=\"T_b90ee_level0_row0\" class=\"row_heading level0 row0\" >0</th>\n      <td id=\"T_b90ee_row0_col0\" class=\"data row0 col0\" >Logistic Regression</td>\n      <td id=\"T_b90ee_row0_col1\" class=\"data row0 col1\" >0.9678</td>\n      <td id=\"T_b90ee_row0_col2\" class=\"data row0 col2\" >0.9950</td>\n      <td id=\"T_b90ee_row0_col3\" class=\"data row0 col3\" >0.9755</td>\n      <td id=\"T_b90ee_row0_col4\" class=\"data row0 col4\" >0.9637</td>\n      <td id=\"T_b90ee_row0_col5\" class=\"data row0 col5\" >0.9696</td>\n      <td id=\"T_b90ee_row0_col6\" class=\"data row0 col6\" >0.9354</td>\n      <td id=\"T_b90ee_row0_col7\" class=\"data row0 col7\" >0.9355</td>\n    </tr>\n  </tbody>\n</table>\n"
     },
     "metadata": {},
     "output_type": "display_data"
    },
    {
     "data": {
      "text/plain": "<pandas.io.formats.style.Styler at 0x15e8122aa30>",
      "text/html": "<style type=\"text/css\">\n</style>\n<table id=\"T_42030\">\n  <thead>\n    <tr>\n      <th class=\"blank level0\" >&nbsp;</th>\n      <th id=\"T_42030_level0_col0\" class=\"col_heading level0 col0\" >Model</th>\n      <th id=\"T_42030_level0_col1\" class=\"col_heading level0 col1\" >Accuracy</th>\n      <th id=\"T_42030_level0_col2\" class=\"col_heading level0 col2\" >AUC</th>\n      <th id=\"T_42030_level0_col3\" class=\"col_heading level0 col3\" >Recall</th>\n      <th id=\"T_42030_level0_col4\" class=\"col_heading level0 col4\" >Prec.</th>\n      <th id=\"T_42030_level0_col5\" class=\"col_heading level0 col5\" >F1</th>\n      <th id=\"T_42030_level0_col6\" class=\"col_heading level0 col6\" >Kappa</th>\n      <th id=\"T_42030_level0_col7\" class=\"col_heading level0 col7\" >MCC</th>\n    </tr>\n  </thead>\n  <tbody>\n    <tr>\n      <th id=\"T_42030_level0_row0\" class=\"row_heading level0 row0\" >0</th>\n      <td id=\"T_42030_row0_col0\" class=\"data row0 col0\" >K Neighbors Classifier</td>\n      <td id=\"T_42030_row0_col1\" class=\"data row0 col1\" >0.9393</td>\n      <td id=\"T_42030_row0_col2\" class=\"data row0 col2\" >0.9863</td>\n      <td id=\"T_42030_row0_col3\" class=\"data row0 col3\" >0.9493</td>\n      <td id=\"T_42030_row0_col4\" class=\"data row0 col4\" >0.9362</td>\n      <td id=\"T_42030_row0_col5\" class=\"data row0 col5\" >0.9427</td>\n      <td id=\"T_42030_row0_col6\" class=\"data row0 col6\" >0.8781</td>\n      <td id=\"T_42030_row0_col7\" class=\"data row0 col7\" >0.8782</td>\n    </tr>\n  </tbody>\n</table>\n"
     },
     "metadata": {},
     "output_type": "display_data"
    },
    {
     "data": {
      "text/plain": "                    model  accuracy\n0          LGBMClassifier  0.978841\n1           XGBClassifier  0.978841\n2      CatBoostClassifier  0.977921\n3  DecisionTreeClassifier  0.977921\n4  RandomForestClassifier  0.976081\n5      LogisticRegression  0.967801\n6    KNeighborsClassifier  0.939282",
      "text/html": "<div>\n<style scoped>\n    .dataframe tbody tr th:only-of-type {\n        vertical-align: middle;\n    }\n\n    .dataframe tbody tr th {\n        vertical-align: top;\n    }\n\n    .dataframe thead th {\n        text-align: right;\n    }\n</style>\n<table border=\"1\" class=\"dataframe\">\n  <thead>\n    <tr style=\"text-align: right;\">\n      <th></th>\n      <th>model</th>\n      <th>accuracy</th>\n    </tr>\n  </thead>\n  <tbody>\n    <tr>\n      <th>0</th>\n      <td>LGBMClassifier</td>\n      <td>0.978841</td>\n    </tr>\n    <tr>\n      <th>1</th>\n      <td>XGBClassifier</td>\n      <td>0.978841</td>\n    </tr>\n    <tr>\n      <th>2</th>\n      <td>CatBoostClassifier</td>\n      <td>0.977921</td>\n    </tr>\n    <tr>\n      <th>3</th>\n      <td>DecisionTreeClassifier</td>\n      <td>0.977921</td>\n    </tr>\n    <tr>\n      <th>4</th>\n      <td>RandomForestClassifier</td>\n      <td>0.976081</td>\n    </tr>\n    <tr>\n      <th>5</th>\n      <td>LogisticRegression</td>\n      <td>0.967801</td>\n    </tr>\n    <tr>\n      <th>6</th>\n      <td>KNeighborsClassifier</td>\n      <td>0.939282</td>\n    </tr>\n  </tbody>\n</table>\n</div>"
     },
     "execution_count": 28,
     "metadata": {},
     "output_type": "execute_result"
    }
   ],
   "source": [
    "model_names = []\n",
    "accuracy_scores = []\n",
    "\n",
    "for model in selected_models:\n",
    "    model_names.append(model.__class__.__name__)\n",
    "    prediction_df = predict_model(model)\n",
    "    accuracy_scores.append(accuracy_score(prediction_df[\"Label\"], prediction_df[\"y\"]))\n",
    "\n",
    "predict_df = pd.DataFrame(data={\"model\": model_names, \"accuracy\": accuracy_scores}).sort_values(by=\"accuracy\", ascending=False).reset_index(drop=True)\n",
    "predict_df"
   ],
   "metadata": {
    "collapsed": false,
    "pycharm": {
     "name": "#%%\n"
    }
   }
  },
  {
   "cell_type": "markdown",
   "source": [
    "## Tune Models"
   ],
   "metadata": {
    "collapsed": false,
    "pycharm": {
     "name": "#%% md\n"
    }
   }
  },
  {
   "cell_type": "code",
   "execution_count": 23,
   "outputs": [
    {
     "data": {
      "text/plain": "<pandas.io.formats.style.Styler at 0x15e8126a460>",
      "text/html": "<style type=\"text/css\">\n#T_d5310_row5_col0, #T_d5310_row5_col1, #T_d5310_row5_col2, #T_d5310_row5_col3, #T_d5310_row5_col4, #T_d5310_row5_col5, #T_d5310_row5_col6 {\n  background: yellow;\n}\n</style>\n<table id=\"T_d5310\">\n  <thead>\n    <tr>\n      <th class=\"blank level0\" >&nbsp;</th>\n      <th id=\"T_d5310_level0_col0\" class=\"col_heading level0 col0\" >Accuracy</th>\n      <th id=\"T_d5310_level0_col1\" class=\"col_heading level0 col1\" >AUC</th>\n      <th id=\"T_d5310_level0_col2\" class=\"col_heading level0 col2\" >Recall</th>\n      <th id=\"T_d5310_level0_col3\" class=\"col_heading level0 col3\" >Prec.</th>\n      <th id=\"T_d5310_level0_col4\" class=\"col_heading level0 col4\" >F1</th>\n      <th id=\"T_d5310_level0_col5\" class=\"col_heading level0 col5\" >Kappa</th>\n      <th id=\"T_d5310_level0_col6\" class=\"col_heading level0 col6\" >MCC</th>\n    </tr>\n  </thead>\n  <tbody>\n    <tr>\n      <th id=\"T_d5310_level0_row0\" class=\"row_heading level0 row0\" >0</th>\n      <td id=\"T_d5310_row0_col0\" class=\"data row0 col0\" >0.9645</td>\n      <td id=\"T_d5310_row0_col1\" class=\"data row0 col1\" >0.9913</td>\n      <td id=\"T_d5310_row0_col2\" class=\"data row0 col2\" >0.9635</td>\n      <td id=\"T_d5310_row0_col3\" class=\"data row0 col3\" >0.9679</td>\n      <td id=\"T_d5310_row0_col4\" class=\"data row0 col4\" >0.9657</td>\n      <td id=\"T_d5310_row0_col5\" class=\"data row0 col5\" >0.9288</td>\n      <td id=\"T_d5310_row0_col6\" class=\"data row0 col6\" >0.9288</td>\n    </tr>\n    <tr>\n      <th id=\"T_d5310_level0_row1\" class=\"row_heading level0 row1\" >1</th>\n      <td id=\"T_d5310_row1_col0\" class=\"data row1 col0\" >0.9336</td>\n      <td id=\"T_d5310_row1_col1\" class=\"data row1 col1\" >0.9766</td>\n      <td id=\"T_d5310_row1_col2\" class=\"data row1 col2\" >0.9498</td>\n      <td id=\"T_d5310_row1_col3\" class=\"data row1 col3\" >0.9244</td>\n      <td id=\"T_d5310_row1_col4\" class=\"data row1 col4\" >0.9369</td>\n      <td id=\"T_d5310_row1_col5\" class=\"data row1 col5\" >0.8670</td>\n      <td id=\"T_d5310_row1_col6\" class=\"data row1 col6\" >0.8673</td>\n    </tr>\n    <tr>\n      <th id=\"T_d5310_level0_row2\" class=\"row_heading level0 row2\" >2</th>\n      <td id=\"T_d5310_row2_col0\" class=\"data row2 col0\" >0.9526</td>\n      <td id=\"T_d5310_row2_col1\" class=\"data row2 col1\" >0.9805</td>\n      <td id=\"T_d5310_row2_col2\" class=\"data row2 col2\" >0.9727</td>\n      <td id=\"T_d5310_row2_col3\" class=\"data row2 col3\" >0.9386</td>\n      <td id=\"T_d5310_row2_col4\" class=\"data row2 col4\" >0.9554</td>\n      <td id=\"T_d5310_row2_col5\" class=\"data row2 col5\" >0.9049</td>\n      <td id=\"T_d5310_row2_col6\" class=\"data row2 col6\" >0.9055</td>\n    </tr>\n    <tr>\n      <th id=\"T_d5310_level0_row3\" class=\"row_heading level0 row3\" >3</th>\n      <td id=\"T_d5310_row3_col0\" class=\"data row3 col0\" >0.9479</td>\n      <td id=\"T_d5310_row3_col1\" class=\"data row3 col1\" >0.9844</td>\n      <td id=\"T_d5310_row3_col2\" class=\"data row3 col2\" >0.9500</td>\n      <td id=\"T_d5310_row3_col3\" class=\"data row3 col3\" >0.9500</td>\n      <td id=\"T_d5310_row3_col4\" class=\"data row3 col4\" >0.9500</td>\n      <td id=\"T_d5310_row3_col5\" class=\"data row3 col5\" >0.8955</td>\n      <td id=\"T_d5310_row3_col6\" class=\"data row3 col6\" >0.8955</td>\n    </tr>\n    <tr>\n      <th id=\"T_d5310_level0_row4\" class=\"row_heading level0 row4\" >4</th>\n      <td id=\"T_d5310_row4_col0\" class=\"data row4 col0\" >0.9264</td>\n      <td id=\"T_d5310_row4_col1\" class=\"data row4 col1\" >0.9794</td>\n      <td id=\"T_d5310_row4_col2\" class=\"data row4 col2\" >0.9224</td>\n      <td id=\"T_d5310_row4_col3\" class=\"data row4 col3\" >0.9352</td>\n      <td id=\"T_d5310_row4_col4\" class=\"data row4 col4\" >0.9287</td>\n      <td id=\"T_d5310_row4_col5\" class=\"data row4 col5\" >0.8526</td>\n      <td id=\"T_d5310_row4_col6\" class=\"data row4 col6\" >0.8527</td>\n    </tr>\n    <tr>\n      <th id=\"T_d5310_level0_row5\" class=\"row_heading level0 row5\" >Mean</th>\n      <td id=\"T_d5310_row5_col0\" class=\"data row5 col0\" >0.9450</td>\n      <td id=\"T_d5310_row5_col1\" class=\"data row5 col1\" >0.9825</td>\n      <td id=\"T_d5310_row5_col2\" class=\"data row5 col2\" >0.9517</td>\n      <td id=\"T_d5310_row5_col3\" class=\"data row5 col3\" >0.9432</td>\n      <td id=\"T_d5310_row5_col4\" class=\"data row5 col4\" >0.9473</td>\n      <td id=\"T_d5310_row5_col5\" class=\"data row5 col5\" >0.8898</td>\n      <td id=\"T_d5310_row5_col6\" class=\"data row5 col6\" >0.8900</td>\n    </tr>\n    <tr>\n      <th id=\"T_d5310_level0_row6\" class=\"row_heading level0 row6\" >SD</th>\n      <td id=\"T_d5310_row6_col0\" class=\"data row6 col0\" >0.0136</td>\n      <td id=\"T_d5310_row6_col1\" class=\"data row6 col1\" >0.0051</td>\n      <td id=\"T_d5310_row6_col2\" class=\"data row6 col2\" >0.0170</td>\n      <td id=\"T_d5310_row6_col3\" class=\"data row6 col3\" >0.0148</td>\n      <td id=\"T_d5310_row6_col4\" class=\"data row6 col4\" >0.0131</td>\n      <td id=\"T_d5310_row6_col5\" class=\"data row6 col5\" >0.0272</td>\n      <td id=\"T_d5310_row6_col6\" class=\"data row6 col6\" >0.0272</td>\n    </tr>\n  </tbody>\n</table>\n"
     },
     "metadata": {},
     "output_type": "display_data"
    },
    {
     "name": "stdout",
     "output_type": "stream",
     "text": [
      "KNeighborsClassifier(algorithm='auto', leaf_size=30, metric='manhattan',\n",
      "                     metric_params=None, n_jobs=-1, n_neighbors=18, p=2,\n",
      "                     weights='distance')\n"
     ]
    }
   ],
   "source": [
    "#tuned_models = [tune_model(model, choose_better=True, n_iter=100) for model  in selected_models]\n",
    "tuned_models = []\n",
    "for model in selected_models:\n",
    "    tuned_model = tune_model(model, choose_better=True, n_iter=25)\n",
    "    tuned_models.append(tuned_model)\n",
    "    print(tuned_model)"
   ],
   "metadata": {
    "collapsed": false,
    "pycharm": {
     "name": "#%%\n"
    }
   }
  },
  {
   "cell_type": "code",
   "execution_count": 29,
   "outputs": [
    {
     "data": {
      "text/plain": "<pandas.io.formats.style.Styler at 0x15eed775070>",
      "text/html": "<style type=\"text/css\">\n</style>\n<table id=\"T_e38ec\">\n  <thead>\n    <tr>\n      <th class=\"blank level0\" >&nbsp;</th>\n      <th id=\"T_e38ec_level0_col0\" class=\"col_heading level0 col0\" >Model</th>\n      <th id=\"T_e38ec_level0_col1\" class=\"col_heading level0 col1\" >Accuracy</th>\n      <th id=\"T_e38ec_level0_col2\" class=\"col_heading level0 col2\" >AUC</th>\n      <th id=\"T_e38ec_level0_col3\" class=\"col_heading level0 col3\" >Recall</th>\n      <th id=\"T_e38ec_level0_col4\" class=\"col_heading level0 col4\" >Prec.</th>\n      <th id=\"T_e38ec_level0_col5\" class=\"col_heading level0 col5\" >F1</th>\n      <th id=\"T_e38ec_level0_col6\" class=\"col_heading level0 col6\" >Kappa</th>\n      <th id=\"T_e38ec_level0_col7\" class=\"col_heading level0 col7\" >MCC</th>\n    </tr>\n  </thead>\n  <tbody>\n    <tr>\n      <th id=\"T_e38ec_level0_row0\" class=\"row_heading level0 row0\" >0</th>\n      <td id=\"T_e38ec_row0_col0\" class=\"data row0 col0\" >Light Gradient Boosting Machine</td>\n      <td id=\"T_e38ec_row0_col1\" class=\"data row0 col1\" >0.9788</td>\n      <td id=\"T_e38ec_row0_col2\" class=\"data row0 col2\" >0.9989</td>\n      <td id=\"T_e38ec_row0_col3\" class=\"data row0 col3\" >0.9843</td>\n      <td id=\"T_e38ec_row0_col4\" class=\"data row0 col4\" >0.9757</td>\n      <td id=\"T_e38ec_row0_col5\" class=\"data row0 col5\" >0.9800</td>\n      <td id=\"T_e38ec_row0_col6\" class=\"data row0 col6\" >0.9575</td>\n      <td id=\"T_e38ec_row0_col7\" class=\"data row0 col7\" >0.9576</td>\n    </tr>\n  </tbody>\n</table>\n"
     },
     "metadata": {},
     "output_type": "display_data"
    },
    {
     "data": {
      "text/plain": "<pandas.io.formats.style.Styler at 0x15e80010f10>",
      "text/html": "<style type=\"text/css\">\n</style>\n<table id=\"T_d88ca\">\n  <thead>\n    <tr>\n      <th class=\"blank level0\" >&nbsp;</th>\n      <th id=\"T_d88ca_level0_col0\" class=\"col_heading level0 col0\" >Model</th>\n      <th id=\"T_d88ca_level0_col1\" class=\"col_heading level0 col1\" >Accuracy</th>\n      <th id=\"T_d88ca_level0_col2\" class=\"col_heading level0 col2\" >AUC</th>\n      <th id=\"T_d88ca_level0_col3\" class=\"col_heading level0 col3\" >Recall</th>\n      <th id=\"T_d88ca_level0_col4\" class=\"col_heading level0 col4\" >Prec.</th>\n      <th id=\"T_d88ca_level0_col5\" class=\"col_heading level0 col5\" >F1</th>\n      <th id=\"T_d88ca_level0_col6\" class=\"col_heading level0 col6\" >Kappa</th>\n      <th id=\"T_d88ca_level0_col7\" class=\"col_heading level0 col7\" >MCC</th>\n    </tr>\n  </thead>\n  <tbody>\n    <tr>\n      <th id=\"T_d88ca_level0_row0\" class=\"row_heading level0 row0\" >0</th>\n      <td id=\"T_d88ca_row0_col0\" class=\"data row0 col0\" >CatBoost Classifier</td>\n      <td id=\"T_d88ca_row0_col1\" class=\"data row0 col1\" >0.9788</td>\n      <td id=\"T_d88ca_row0_col2\" class=\"data row0 col2\" >0.9989</td>\n      <td id=\"T_d88ca_row0_col3\" class=\"data row0 col3\" >0.9843</td>\n      <td id=\"T_d88ca_row0_col4\" class=\"data row0 col4\" >0.9757</td>\n      <td id=\"T_d88ca_row0_col5\" class=\"data row0 col5\" >0.9800</td>\n      <td id=\"T_d88ca_row0_col6\" class=\"data row0 col6\" >0.9575</td>\n      <td id=\"T_d88ca_row0_col7\" class=\"data row0 col7\" >0.9576</td>\n    </tr>\n  </tbody>\n</table>\n"
     },
     "metadata": {},
     "output_type": "display_data"
    },
    {
     "data": {
      "text/plain": "<pandas.io.formats.style.Styler at 0x15e812237c0>",
      "text/html": "<style type=\"text/css\">\n</style>\n<table id=\"T_6495b\">\n  <thead>\n    <tr>\n      <th class=\"blank level0\" >&nbsp;</th>\n      <th id=\"T_6495b_level0_col0\" class=\"col_heading level0 col0\" >Model</th>\n      <th id=\"T_6495b_level0_col1\" class=\"col_heading level0 col1\" >Accuracy</th>\n      <th id=\"T_6495b_level0_col2\" class=\"col_heading level0 col2\" >AUC</th>\n      <th id=\"T_6495b_level0_col3\" class=\"col_heading level0 col3\" >Recall</th>\n      <th id=\"T_6495b_level0_col4\" class=\"col_heading level0 col4\" >Prec.</th>\n      <th id=\"T_6495b_level0_col5\" class=\"col_heading level0 col5\" >F1</th>\n      <th id=\"T_6495b_level0_col6\" class=\"col_heading level0 col6\" >Kappa</th>\n      <th id=\"T_6495b_level0_col7\" class=\"col_heading level0 col7\" >MCC</th>\n    </tr>\n  </thead>\n  <tbody>\n    <tr>\n      <th id=\"T_6495b_level0_row0\" class=\"row_heading level0 row0\" >0</th>\n      <td id=\"T_6495b_row0_col0\" class=\"data row0 col0\" >Random Forest Classifier</td>\n      <td id=\"T_6495b_row0_col1\" class=\"data row0 col1\" >0.9761</td>\n      <td id=\"T_6495b_row0_col2\" class=\"data row0 col2\" >0.9984</td>\n      <td id=\"T_6495b_row0_col3\" class=\"data row0 col3\" >0.9825</td>\n      <td id=\"T_6495b_row0_col4\" class=\"data row0 col4\" >0.9723</td>\n      <td id=\"T_6495b_row0_col5\" class=\"data row0 col5\" >0.9774</td>\n      <td id=\"T_6495b_row0_col6\" class=\"data row0 col6\" >0.9520</td>\n      <td id=\"T_6495b_row0_col7\" class=\"data row0 col7\" >0.9521</td>\n    </tr>\n  </tbody>\n</table>\n"
     },
     "metadata": {},
     "output_type": "display_data"
    },
    {
     "data": {
      "text/plain": "<pandas.io.formats.style.Styler at 0x15e80dfefd0>",
      "text/html": "<style type=\"text/css\">\n</style>\n<table id=\"T_1b686\">\n  <thead>\n    <tr>\n      <th class=\"blank level0\" >&nbsp;</th>\n      <th id=\"T_1b686_level0_col0\" class=\"col_heading level0 col0\" >Model</th>\n      <th id=\"T_1b686_level0_col1\" class=\"col_heading level0 col1\" >Accuracy</th>\n      <th id=\"T_1b686_level0_col2\" class=\"col_heading level0 col2\" >AUC</th>\n      <th id=\"T_1b686_level0_col3\" class=\"col_heading level0 col3\" >Recall</th>\n      <th id=\"T_1b686_level0_col4\" class=\"col_heading level0 col4\" >Prec.</th>\n      <th id=\"T_1b686_level0_col5\" class=\"col_heading level0 col5\" >F1</th>\n      <th id=\"T_1b686_level0_col6\" class=\"col_heading level0 col6\" >Kappa</th>\n      <th id=\"T_1b686_level0_col7\" class=\"col_heading level0 col7\" >MCC</th>\n    </tr>\n  </thead>\n  <tbody>\n    <tr>\n      <th id=\"T_1b686_level0_row0\" class=\"row_heading level0 row0\" >0</th>\n      <td id=\"T_1b686_row0_col0\" class=\"data row0 col0\" >Extreme Gradient Boosting</td>\n      <td id=\"T_1b686_row0_col1\" class=\"data row0 col1\" >0.9807</td>\n      <td id=\"T_1b686_row0_col2\" class=\"data row0 col2\" >0.9985</td>\n      <td id=\"T_1b686_row0_col3\" class=\"data row0 col3\" >0.9983</td>\n      <td id=\"T_1b686_row0_col4\" class=\"data row0 col4\" >0.9662</td>\n      <td id=\"T_1b686_row0_col5\" class=\"data row0 col5\" >0.9819</td>\n      <td id=\"T_1b686_row0_col6\" class=\"data row0 col6\" >0.9612</td>\n      <td id=\"T_1b686_row0_col7\" class=\"data row0 col7\" >0.9618</td>\n    </tr>\n  </tbody>\n</table>\n"
     },
     "metadata": {},
     "output_type": "display_data"
    },
    {
     "data": {
      "text/plain": "<pandas.io.formats.style.Styler at 0x15ea43731c0>",
      "text/html": "<style type=\"text/css\">\n</style>\n<table id=\"T_955ca\">\n  <thead>\n    <tr>\n      <th class=\"blank level0\" >&nbsp;</th>\n      <th id=\"T_955ca_level0_col0\" class=\"col_heading level0 col0\" >Model</th>\n      <th id=\"T_955ca_level0_col1\" class=\"col_heading level0 col1\" >Accuracy</th>\n      <th id=\"T_955ca_level0_col2\" class=\"col_heading level0 col2\" >AUC</th>\n      <th id=\"T_955ca_level0_col3\" class=\"col_heading level0 col3\" >Recall</th>\n      <th id=\"T_955ca_level0_col4\" class=\"col_heading level0 col4\" >Prec.</th>\n      <th id=\"T_955ca_level0_col5\" class=\"col_heading level0 col5\" >F1</th>\n      <th id=\"T_955ca_level0_col6\" class=\"col_heading level0 col6\" >Kappa</th>\n      <th id=\"T_955ca_level0_col7\" class=\"col_heading level0 col7\" >MCC</th>\n    </tr>\n  </thead>\n  <tbody>\n    <tr>\n      <th id=\"T_955ca_level0_row0\" class=\"row_heading level0 row0\" >0</th>\n      <td id=\"T_955ca_row0_col0\" class=\"data row0 col0\" >Decision Tree Classifier</td>\n      <td id=\"T_955ca_row0_col1\" class=\"data row0 col1\" >0.9798</td>\n      <td id=\"T_955ca_row0_col2\" class=\"data row0 col2\" >0.9930</td>\n      <td id=\"T_955ca_row0_col3\" class=\"data row0 col3\" >0.9860</td>\n      <td id=\"T_955ca_row0_col4\" class=\"data row0 col4\" >0.9758</td>\n      <td id=\"T_955ca_row0_col5\" class=\"data row0 col5\" >0.9809</td>\n      <td id=\"T_955ca_row0_col6\" class=\"data row0 col6\" >0.9594</td>\n      <td id=\"T_955ca_row0_col7\" class=\"data row0 col7\" >0.9594</td>\n    </tr>\n  </tbody>\n</table>\n"
     },
     "metadata": {},
     "output_type": "display_data"
    },
    {
     "data": {
      "text/plain": "<pandas.io.formats.style.Styler at 0x15eea37a640>",
      "text/html": "<style type=\"text/css\">\n</style>\n<table id=\"T_31f5c\">\n  <thead>\n    <tr>\n      <th class=\"blank level0\" >&nbsp;</th>\n      <th id=\"T_31f5c_level0_col0\" class=\"col_heading level0 col0\" >Model</th>\n      <th id=\"T_31f5c_level0_col1\" class=\"col_heading level0 col1\" >Accuracy</th>\n      <th id=\"T_31f5c_level0_col2\" class=\"col_heading level0 col2\" >AUC</th>\n      <th id=\"T_31f5c_level0_col3\" class=\"col_heading level0 col3\" >Recall</th>\n      <th id=\"T_31f5c_level0_col4\" class=\"col_heading level0 col4\" >Prec.</th>\n      <th id=\"T_31f5c_level0_col5\" class=\"col_heading level0 col5\" >F1</th>\n      <th id=\"T_31f5c_level0_col6\" class=\"col_heading level0 col6\" >Kappa</th>\n      <th id=\"T_31f5c_level0_col7\" class=\"col_heading level0 col7\" >MCC</th>\n    </tr>\n  </thead>\n  <tbody>\n    <tr>\n      <th id=\"T_31f5c_level0_row0\" class=\"row_heading level0 row0\" >0</th>\n      <td id=\"T_31f5c_row0_col0\" class=\"data row0 col0\" >Logistic Regression</td>\n      <td id=\"T_31f5c_row0_col1\" class=\"data row0 col1\" >0.9678</td>\n      <td id=\"T_31f5c_row0_col2\" class=\"data row0 col2\" >0.9953</td>\n      <td id=\"T_31f5c_row0_col3\" class=\"data row0 col3\" >0.9720</td>\n      <td id=\"T_31f5c_row0_col4\" class=\"data row0 col4\" >0.9670</td>\n      <td id=\"T_31f5c_row0_col5\" class=\"data row0 col5\" >0.9695</td>\n      <td id=\"T_31f5c_row0_col6\" class=\"data row0 col6\" >0.9354</td>\n      <td id=\"T_31f5c_row0_col7\" class=\"data row0 col7\" >0.9354</td>\n    </tr>\n  </tbody>\n</table>\n"
     },
     "metadata": {},
     "output_type": "display_data"
    },
    {
     "data": {
      "text/plain": "<pandas.io.formats.style.Styler at 0x15e8122a880>",
      "text/html": "<style type=\"text/css\">\n</style>\n<table id=\"T_05b18\">\n  <thead>\n    <tr>\n      <th class=\"blank level0\" >&nbsp;</th>\n      <th id=\"T_05b18_level0_col0\" class=\"col_heading level0 col0\" >Model</th>\n      <th id=\"T_05b18_level0_col1\" class=\"col_heading level0 col1\" >Accuracy</th>\n      <th id=\"T_05b18_level0_col2\" class=\"col_heading level0 col2\" >AUC</th>\n      <th id=\"T_05b18_level0_col3\" class=\"col_heading level0 col3\" >Recall</th>\n      <th id=\"T_05b18_level0_col4\" class=\"col_heading level0 col4\" >Prec.</th>\n      <th id=\"T_05b18_level0_col5\" class=\"col_heading level0 col5\" >F1</th>\n      <th id=\"T_05b18_level0_col6\" class=\"col_heading level0 col6\" >Kappa</th>\n      <th id=\"T_05b18_level0_col7\" class=\"col_heading level0 col7\" >MCC</th>\n    </tr>\n  </thead>\n  <tbody>\n    <tr>\n      <th id=\"T_05b18_level0_row0\" class=\"row_heading level0 row0\" >0</th>\n      <td id=\"T_05b18_row0_col0\" class=\"data row0 col0\" >K Neighbors Classifier</td>\n      <td id=\"T_05b18_row0_col1\" class=\"data row0 col1\" >0.9595</td>\n      <td id=\"T_05b18_row0_col2\" class=\"data row0 col2\" >0.9770</td>\n      <td id=\"T_05b18_row0_col3\" class=\"data row0 col3\" >0.9738</td>\n      <td id=\"T_05b18_row0_col4\" class=\"data row0 col4\" >0.9505</td>\n      <td id=\"T_05b18_row0_col5\" class=\"data row0 col5\" >0.9620</td>\n      <td id=\"T_05b18_row0_col6\" class=\"data row0 col6\" >0.9187</td>\n      <td id=\"T_05b18_row0_col7\" class=\"data row0 col7\" >0.9190</td>\n    </tr>\n  </tbody>\n</table>\n"
     },
     "metadata": {},
     "output_type": "display_data"
    },
    {
     "data": {
      "text/plain": "                          model  accuracy\n0           XGBClassifier tuned  0.980681\n1  DecisionTreeClassifier tuned  0.979761\n2          LGBMClassifier tuned  0.978841\n3      CatBoostClassifier tuned  0.978841\n4  RandomForestClassifier tuned  0.976081\n5      LogisticRegression tuned  0.967801\n6    KNeighborsClassifier tuned  0.959522",
      "text/html": "<div>\n<style scoped>\n    .dataframe tbody tr th:only-of-type {\n        vertical-align: middle;\n    }\n\n    .dataframe tbody tr th {\n        vertical-align: top;\n    }\n\n    .dataframe thead th {\n        text-align: right;\n    }\n</style>\n<table border=\"1\" class=\"dataframe\">\n  <thead>\n    <tr style=\"text-align: right;\">\n      <th></th>\n      <th>model</th>\n      <th>accuracy</th>\n    </tr>\n  </thead>\n  <tbody>\n    <tr>\n      <th>0</th>\n      <td>XGBClassifier tuned</td>\n      <td>0.980681</td>\n    </tr>\n    <tr>\n      <th>1</th>\n      <td>DecisionTreeClassifier tuned</td>\n      <td>0.979761</td>\n    </tr>\n    <tr>\n      <th>2</th>\n      <td>LGBMClassifier tuned</td>\n      <td>0.978841</td>\n    </tr>\n    <tr>\n      <th>3</th>\n      <td>CatBoostClassifier tuned</td>\n      <td>0.978841</td>\n    </tr>\n    <tr>\n      <th>4</th>\n      <td>RandomForestClassifier tuned</td>\n      <td>0.976081</td>\n    </tr>\n    <tr>\n      <th>5</th>\n      <td>LogisticRegression tuned</td>\n      <td>0.967801</td>\n    </tr>\n    <tr>\n      <th>6</th>\n      <td>KNeighborsClassifier tuned</td>\n      <td>0.959522</td>\n    </tr>\n  </tbody>\n</table>\n</div>"
     },
     "execution_count": 29,
     "metadata": {},
     "output_type": "execute_result"
    }
   ],
   "source": [
    "model_names = []\n",
    "accuracy_scores = []\n",
    "\n",
    "for model in tuned_models:\n",
    "    model_names.append(f\"{model.__class__.__name__} tuned\")\n",
    "    predict_df_tuned = predict_model(model)\n",
    "    accuracy_scores.append(accuracy_score(predict_df_tuned[\"Label\"], predict_df_tuned[\"y\"]))\n",
    "\n",
    "predict_df_tuned = pd.DataFrame(data={\"model\": model_names, \"accuracy\": accuracy_scores}).sort_values(by=\"accuracy\", ascending=False).reset_index(drop=True)\n",
    "predict_df_tuned"
   ],
   "metadata": {
    "collapsed": false,
    "pycharm": {
     "name": "#%%\n"
    }
   }
  },
  {
   "cell_type": "code",
   "execution_count": 31,
   "outputs": [
    {
     "data": {
      "text/plain": "                           model  accuracy\n0            XGBClassifier tuned  0.980681\n1   DecisionTreeClassifier tuned  0.979761\n2                 LGBMClassifier  0.978841\n3                  XGBClassifier  0.978841\n4           LGBMClassifier tuned  0.978841\n5       CatBoostClassifier tuned  0.978841\n6             CatBoostClassifier  0.977921\n7         DecisionTreeClassifier  0.977921\n8         RandomForestClassifier  0.976081\n9   RandomForestClassifier tuned  0.976081\n10            LogisticRegression  0.967801\n11      LogisticRegression tuned  0.967801\n12    KNeighborsClassifier tuned  0.959522\n13          KNeighborsClassifier  0.939282",
      "text/html": "<div>\n<style scoped>\n    .dataframe tbody tr th:only-of-type {\n        vertical-align: middle;\n    }\n\n    .dataframe tbody tr th {\n        vertical-align: top;\n    }\n\n    .dataframe thead th {\n        text-align: right;\n    }\n</style>\n<table border=\"1\" class=\"dataframe\">\n  <thead>\n    <tr style=\"text-align: right;\">\n      <th></th>\n      <th>model</th>\n      <th>accuracy</th>\n    </tr>\n  </thead>\n  <tbody>\n    <tr>\n      <th>0</th>\n      <td>XGBClassifier tuned</td>\n      <td>0.980681</td>\n    </tr>\n    <tr>\n      <th>1</th>\n      <td>DecisionTreeClassifier tuned</td>\n      <td>0.979761</td>\n    </tr>\n    <tr>\n      <th>2</th>\n      <td>LGBMClassifier</td>\n      <td>0.978841</td>\n    </tr>\n    <tr>\n      <th>3</th>\n      <td>XGBClassifier</td>\n      <td>0.978841</td>\n    </tr>\n    <tr>\n      <th>4</th>\n      <td>LGBMClassifier tuned</td>\n      <td>0.978841</td>\n    </tr>\n    <tr>\n      <th>5</th>\n      <td>CatBoostClassifier tuned</td>\n      <td>0.978841</td>\n    </tr>\n    <tr>\n      <th>6</th>\n      <td>CatBoostClassifier</td>\n      <td>0.977921</td>\n    </tr>\n    <tr>\n      <th>7</th>\n      <td>DecisionTreeClassifier</td>\n      <td>0.977921</td>\n    </tr>\n    <tr>\n      <th>8</th>\n      <td>RandomForestClassifier</td>\n      <td>0.976081</td>\n    </tr>\n    <tr>\n      <th>9</th>\n      <td>RandomForestClassifier tuned</td>\n      <td>0.976081</td>\n    </tr>\n    <tr>\n      <th>10</th>\n      <td>LogisticRegression</td>\n      <td>0.967801</td>\n    </tr>\n    <tr>\n      <th>11</th>\n      <td>LogisticRegression tuned</td>\n      <td>0.967801</td>\n    </tr>\n    <tr>\n      <th>12</th>\n      <td>KNeighborsClassifier tuned</td>\n      <td>0.959522</td>\n    </tr>\n    <tr>\n      <th>13</th>\n      <td>KNeighborsClassifier</td>\n      <td>0.939282</td>\n    </tr>\n  </tbody>\n</table>\n</div>"
     },
     "execution_count": 31,
     "metadata": {},
     "output_type": "execute_result"
    }
   ],
   "source": [
    "caret_results_df = pd.concat([predict_df, predict_df_tuned]).sort_values(by=\"accuracy\", ascending=False).reset_index(drop=True)\n",
    "caret_results_df"
   ],
   "metadata": {
    "collapsed": false,
    "pycharm": {
     "name": "#%%\n"
    }
   }
  }
 ],
 "metadata": {
  "kernelspec": {
   "display_name": "Python 3",
   "language": "python",
   "name": "python3"
  },
  "language_info": {
   "codemirror_mode": {
    "name": "ipython",
    "version": 2
   },
   "file_extension": ".py",
   "mimetype": "text/x-python",
   "name": "python",
   "nbconvert_exporter": "python",
   "pygments_lexer": "ipython2",
   "version": "2.7.6"
  }
 },
 "nbformat": 4,
 "nbformat_minor": 0
}