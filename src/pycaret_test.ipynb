{
 "cells": [
  {
   "cell_type": "code",
   "execution_count": 31,
   "metadata": {
    "collapsed": true,
    "pycharm": {
     "name": "#%%\n"
    }
   },
   "outputs": [],
   "source": [
    "import pandas as pd\n",
    "import matplotlib.pyplot as plt\n",
    "from sklearn.ensemble import RandomTreesEmbedding, StackingClassifier\n",
    "from sklearn.model_selection import cross_val_predict\n",
    "\n",
    "from constants import *\n",
    "import numpy as np\n",
    "from shutil import make_archive, unpack_archive\n",
    "import time\n",
    "from time import perf_counter\n",
    "import warnings\n",
    "\n",
    "from src.calc_scores import get_X_train_X_test_y_train_y_test\n",
    "from pycaret.classification import *\n",
    "from sklearn.metrics import accuracy_score\n",
    "from sklearn.model_selection import train_test_split\n",
    "\n"
   ]
  },
  {
   "cell_type": "code",
   "execution_count": 32,
   "outputs": [
    {
     "name": "stdout",
     "output_type": "stream",
     "text": [
      "X_train shape: (3566, 5)\n",
      "target classes: \n",
      "0    2501\n",
      "1    1065\n",
      "Name: y, dtype: int64\n",
      "total 2 classes\n",
      "\n",
      "Sample is used of 1000\n"
     ]
    }
   ],
   "source": [
    "\n",
    "dataset_id = \"1489\"\n",
    "#dataset_id = \"40923\" # 1489 # 3\n",
    "\n",
    "# load data\n",
    "X_train, X_test, y_train, y_test = get_X_train_X_test_y_train_y_test(\n",
    "    dataset_folder=DATASETS_FOLDER_PATH.joinpath(dataset_id), random_state=RANDOM_STATE,\n",
    "    X_file_name=X_FILTERED_FILE_NAME, y_file_name=Y_FILE_NAME)\n",
    "\n",
    "# short feedback of the data and classes\n",
    "print(f\"X_train shape: {X_train.shape}\")\n",
    "print(f\"target classes: \\n{y_train.value_counts()}\")\n",
    "print(f\"total {len(y_train.value_counts())} classes\\n\")\n",
    "\n",
    "#sample if needed\n",
    "sample_size = 1_000\n",
    "\n",
    "if len(X_train) > sample_size:\n",
    "    print(f\"Sample is used of {sample_size}\")\n",
    "    #X_train_sample = X_train.sample(n=sample_size, random_state=RANDOM_STATE)\n",
    "    X_train_sample, _, y_train_sample, _ = train_test_split(X_train, y_train, train_size=sample_size, random_state=RANDOM_STATE)\n",
    "\n",
    "else:\n",
    "    X_train_sample = X_train\n",
    "    y_train_sample = y_train\n",
    "\n",
    "feature_names = list(X_train.columns)\n",
    "\n",
    "# pycaret wants the target in a dataframe column\n",
    "X_train_sample[\"y\"] = y_train_sample\n",
    "X_test[\"y\"] = y_test\n",
    "pass"
   ],
   "metadata": {
    "collapsed": false,
    "pycharm": {
     "name": "#%%\n"
    }
   }
  },
  {
   "cell_type": "code",
   "execution_count": 33,
   "outputs": [
    {
     "data": {
      "text/plain": "Text(value=\"Following data types have been inferred automatically, if they are correct press enter to continue…",
      "application/vnd.jupyter.widget-view+json": {
       "version_major": 2,
       "version_minor": 0,
       "model_id": "42c94b04bd7f4a6b967432caf83a117d"
      }
     },
     "metadata": {},
     "output_type": "display_data"
    },
    {
     "data": {
      "text/plain": "   Data Type\nV1   Numeric\nV2   Numeric\nV3   Numeric\nV4   Numeric\nV5   Numeric\ny      Label",
      "text/html": "<div>\n<style scoped>\n    .dataframe tbody tr th:only-of-type {\n        vertical-align: middle;\n    }\n\n    .dataframe tbody tr th {\n        vertical-align: top;\n    }\n\n    .dataframe thead th {\n        text-align: right;\n    }\n</style>\n<table border=\"1\" class=\"dataframe\">\n  <thead>\n    <tr style=\"text-align: right;\">\n      <th></th>\n      <th>Data Type</th>\n    </tr>\n  </thead>\n  <tbody>\n    <tr>\n      <th>V1</th>\n      <td>Numeric</td>\n    </tr>\n    <tr>\n      <th>V2</th>\n      <td>Numeric</td>\n    </tr>\n    <tr>\n      <th>V3</th>\n      <td>Numeric</td>\n    </tr>\n    <tr>\n      <th>V4</th>\n      <td>Numeric</td>\n    </tr>\n    <tr>\n      <th>V5</th>\n      <td>Numeric</td>\n    </tr>\n    <tr>\n      <th>y</th>\n      <td>Label</td>\n    </tr>\n  </tbody>\n</table>\n</div>"
     },
     "metadata": {},
     "output_type": "display_data"
    },
    {
     "name": "stdout",
     "output_type": "stream",
     "text": [
      "Setup Succesfully Completed!\n"
     ]
    },
    {
     "data": {
      "text/plain": "              Description             Value\n0              session_id                42\n1                  Target                 y\n2             Target Type            Binary\n3           Label Encoded              None\n4           Original Data         (1000, 6)\n5          Missing Values             False\n6        Numeric Features                 5\n7    Categorical Features                 0\n8   Transformed Train Set         (1000, 5)\n9    Transformed Test Set         (1838, 5)\n10     Shuffle Train-Test              True\n11    Stratify Train-Test             False\n12         Fold Generator   StratifiedKFold\n13            Fold Number                 5\n14               CPU Jobs                -1\n15                Use GPU             False\n16         Log Experiment             False\n17        Experiment Name  clf-default-name\n18                    USI              715e\n19          Fix Imbalance             False\n20   Fix Imbalance Method             SMOTE",
      "text/html": "<div>\n<style scoped>\n    .dataframe tbody tr th:only-of-type {\n        vertical-align: middle;\n    }\n\n    .dataframe tbody tr th {\n        vertical-align: top;\n    }\n\n    .dataframe thead th {\n        text-align: right;\n    }\n</style>\n<table border=\"1\" class=\"dataframe\">\n  <thead>\n    <tr style=\"text-align: right;\">\n      <th></th>\n      <th>Description</th>\n      <th>Value</th>\n    </tr>\n  </thead>\n  <tbody>\n    <tr>\n      <th>0</th>\n      <td>session_id</td>\n      <td>42</td>\n    </tr>\n    <tr>\n      <th>1</th>\n      <td>Target</td>\n      <td>y</td>\n    </tr>\n    <tr>\n      <th>2</th>\n      <td>Target Type</td>\n      <td>Binary</td>\n    </tr>\n    <tr>\n      <th>3</th>\n      <td>Label Encoded</td>\n      <td>None</td>\n    </tr>\n    <tr>\n      <th>4</th>\n      <td>Original Data</td>\n      <td>(1000, 6)</td>\n    </tr>\n    <tr>\n      <th>5</th>\n      <td>Missing Values</td>\n      <td>False</td>\n    </tr>\n    <tr>\n      <th>6</th>\n      <td>Numeric Features</td>\n      <td>5</td>\n    </tr>\n    <tr>\n      <th>7</th>\n      <td>Categorical Features</td>\n      <td>0</td>\n    </tr>\n    <tr>\n      <th>8</th>\n      <td>Transformed Train Set</td>\n      <td>(1000, 5)</td>\n    </tr>\n    <tr>\n      <th>9</th>\n      <td>Transformed Test Set</td>\n      <td>(1838, 5)</td>\n    </tr>\n    <tr>\n      <th>10</th>\n      <td>Shuffle Train-Test</td>\n      <td>True</td>\n    </tr>\n    <tr>\n      <th>11</th>\n      <td>Stratify Train-Test</td>\n      <td>False</td>\n    </tr>\n    <tr>\n      <th>12</th>\n      <td>Fold Generator</td>\n      <td>StratifiedKFold</td>\n    </tr>\n    <tr>\n      <th>13</th>\n      <td>Fold Number</td>\n      <td>5</td>\n    </tr>\n    <tr>\n      <th>14</th>\n      <td>CPU Jobs</td>\n      <td>-1</td>\n    </tr>\n    <tr>\n      <th>15</th>\n      <td>Use GPU</td>\n      <td>False</td>\n    </tr>\n    <tr>\n      <th>16</th>\n      <td>Log Experiment</td>\n      <td>False</td>\n    </tr>\n    <tr>\n      <th>17</th>\n      <td>Experiment Name</td>\n      <td>clf-default-name</td>\n    </tr>\n    <tr>\n      <th>18</th>\n      <td>USI</td>\n      <td>715e</td>\n    </tr>\n    <tr>\n      <th>19</th>\n      <td>Fix Imbalance</td>\n      <td>False</td>\n    </tr>\n    <tr>\n      <th>20</th>\n      <td>Fix Imbalance Method</td>\n      <td>SMOTE</td>\n    </tr>\n  </tbody>\n</table>\n</div>"
     },
     "metadata": {},
     "output_type": "display_data"
    }
   ],
   "source": [
    "experiment = setup(\n",
    "    #data=X_train,\n",
    "    data=X_train_sample,\n",
    "    target=\"y\",\n",
    "    test_data=X_test,\n",
    "    preprocess=False,\n",
    "    #data_split_shuffle=False,\n",
    "    #n_jobs=-1,\n",
    "    # session_id=RANDOM_STATE # maybe a bug so do not set the random state. ERROR:\n",
    "    fold=5,\n",
    "    fold_shuffle=True, # must be set because of this bug which leads from pycaret is not adjustd to sklearn version 1? ValueError: Setting a random_state has no effect since shuffle is False. You should leave random_state to its default (None), or set shuffle=True. Info from here: https://stackoverflow.com/questions/67728802/valueerror-setting-a-random-state-has-no-effect-since-shuffle-is-false-you-sho\n",
    "    numeric_features=feature_names,  # force all features to be regarded as numeric not categorical which avoids problems with xgboost and lightgbm\n",
    "    session_id=42,\n",
    "    html=False,  # must be set to False when run outside of a notebook (ipython)\n",
    ")\n"
   ],
   "metadata": {
    "collapsed": false,
    "pycharm": {
     "name": "#%%\n"
    }
   }
  },
  {
   "cell_type": "code",
   "execution_count": 34,
   "outputs": [
    {
     "data": {
      "text/plain": "                                     Name  \\\nID                                          \nlr                    Logistic Regression   \nknn                K Neighbors Classifier   \nnb                            Naive Bayes   \ndt               Decision Tree Classifier   \nsvm                   SVM - Linear Kernel   \nrbfsvm                SVM - Radial Kernel   \ngpc           Gaussian Process Classifier   \nmlp                        MLP Classifier   \nridge                    Ridge Classifier   \nrf               Random Forest Classifier   \nqda       Quadratic Discriminant Analysis   \nada                  Ada Boost Classifier   \ngbc          Gradient Boosting Classifier   \nlda          Linear Discriminant Analysis   \net                 Extra Trees Classifier   \nxgboost         Extreme Gradient Boosting   \nlightgbm  Light Gradient Boosting Machine   \ncatboost              CatBoost Classifier   \n\n                                                  Reference  Turbo  \nID                                                                  \nlr        sklearn.linear_model._logistic.LogisticRegression   True  \nknn       sklearn.neighbors._classification.KNeighborsCl...   True  \nnb                           sklearn.naive_bayes.GaussianNB   True  \ndt             sklearn.tree._classes.DecisionTreeClassifier   True  \nsvm       sklearn.linear_model._stochastic_gradient.SGDC...   True  \nrbfsvm                             sklearn.svm._classes.SVC  False  \ngpc       sklearn.gaussian_process._gpc.GaussianProcessC...  False  \nmlp           pycaret.internal.tunable.TunableMLPClassifier  False  \nridge           sklearn.linear_model._ridge.RidgeClassifier   True  \nrf          sklearn.ensemble._forest.RandomForestClassifier   True  \nqda       sklearn.discriminant_analysis.QuadraticDiscrim...   True  \nada       sklearn.ensemble._weight_boosting.AdaBoostClas...   True  \ngbc         sklearn.ensemble._gb.GradientBoostingClassifier   True  \nlda       sklearn.discriminant_analysis.LinearDiscrimina...   True  \net            sklearn.ensemble._forest.ExtraTreesClassifier   True  \nxgboost                       xgboost.sklearn.XGBClassifier   True  \nlightgbm                    lightgbm.sklearn.LGBMClassifier   True  \ncatboost                   catboost.core.CatBoostClassifier   True  ",
      "text/html": "<div>\n<style scoped>\n    .dataframe tbody tr th:only-of-type {\n        vertical-align: middle;\n    }\n\n    .dataframe tbody tr th {\n        vertical-align: top;\n    }\n\n    .dataframe thead th {\n        text-align: right;\n    }\n</style>\n<table border=\"1\" class=\"dataframe\">\n  <thead>\n    <tr style=\"text-align: right;\">\n      <th></th>\n      <th>Name</th>\n      <th>Reference</th>\n      <th>Turbo</th>\n    </tr>\n    <tr>\n      <th>ID</th>\n      <th></th>\n      <th></th>\n      <th></th>\n    </tr>\n  </thead>\n  <tbody>\n    <tr>\n      <th>lr</th>\n      <td>Logistic Regression</td>\n      <td>sklearn.linear_model._logistic.LogisticRegression</td>\n      <td>True</td>\n    </tr>\n    <tr>\n      <th>knn</th>\n      <td>K Neighbors Classifier</td>\n      <td>sklearn.neighbors._classification.KNeighborsCl...</td>\n      <td>True</td>\n    </tr>\n    <tr>\n      <th>nb</th>\n      <td>Naive Bayes</td>\n      <td>sklearn.naive_bayes.GaussianNB</td>\n      <td>True</td>\n    </tr>\n    <tr>\n      <th>dt</th>\n      <td>Decision Tree Classifier</td>\n      <td>sklearn.tree._classes.DecisionTreeClassifier</td>\n      <td>True</td>\n    </tr>\n    <tr>\n      <th>svm</th>\n      <td>SVM - Linear Kernel</td>\n      <td>sklearn.linear_model._stochastic_gradient.SGDC...</td>\n      <td>True</td>\n    </tr>\n    <tr>\n      <th>rbfsvm</th>\n      <td>SVM - Radial Kernel</td>\n      <td>sklearn.svm._classes.SVC</td>\n      <td>False</td>\n    </tr>\n    <tr>\n      <th>gpc</th>\n      <td>Gaussian Process Classifier</td>\n      <td>sklearn.gaussian_process._gpc.GaussianProcessC...</td>\n      <td>False</td>\n    </tr>\n    <tr>\n      <th>mlp</th>\n      <td>MLP Classifier</td>\n      <td>pycaret.internal.tunable.TunableMLPClassifier</td>\n      <td>False</td>\n    </tr>\n    <tr>\n      <th>ridge</th>\n      <td>Ridge Classifier</td>\n      <td>sklearn.linear_model._ridge.RidgeClassifier</td>\n      <td>True</td>\n    </tr>\n    <tr>\n      <th>rf</th>\n      <td>Random Forest Classifier</td>\n      <td>sklearn.ensemble._forest.RandomForestClassifier</td>\n      <td>True</td>\n    </tr>\n    <tr>\n      <th>qda</th>\n      <td>Quadratic Discriminant Analysis</td>\n      <td>sklearn.discriminant_analysis.QuadraticDiscrim...</td>\n      <td>True</td>\n    </tr>\n    <tr>\n      <th>ada</th>\n      <td>Ada Boost Classifier</td>\n      <td>sklearn.ensemble._weight_boosting.AdaBoostClas...</td>\n      <td>True</td>\n    </tr>\n    <tr>\n      <th>gbc</th>\n      <td>Gradient Boosting Classifier</td>\n      <td>sklearn.ensemble._gb.GradientBoostingClassifier</td>\n      <td>True</td>\n    </tr>\n    <tr>\n      <th>lda</th>\n      <td>Linear Discriminant Analysis</td>\n      <td>sklearn.discriminant_analysis.LinearDiscrimina...</td>\n      <td>True</td>\n    </tr>\n    <tr>\n      <th>et</th>\n      <td>Extra Trees Classifier</td>\n      <td>sklearn.ensemble._forest.ExtraTreesClassifier</td>\n      <td>True</td>\n    </tr>\n    <tr>\n      <th>xgboost</th>\n      <td>Extreme Gradient Boosting</td>\n      <td>xgboost.sklearn.XGBClassifier</td>\n      <td>True</td>\n    </tr>\n    <tr>\n      <th>lightgbm</th>\n      <td>Light Gradient Boosting Machine</td>\n      <td>lightgbm.sklearn.LGBMClassifier</td>\n      <td>True</td>\n    </tr>\n    <tr>\n      <th>catboost</th>\n      <td>CatBoost Classifier</td>\n      <td>catboost.core.CatBoostClassifier</td>\n      <td>True</td>\n    </tr>\n  </tbody>\n</table>\n</div>"
     },
     "execution_count": 34,
     "metadata": {},
     "output_type": "execute_result"
    }
   ],
   "source": [
    "models()"
   ],
   "metadata": {
    "collapsed": false,
    "pycharm": {
     "name": "#%%\n"
    }
   }
  },
  {
   "cell_type": "markdown",
   "source": [
    "## Train Models"
   ],
   "metadata": {
    "collapsed": false,
    "pycharm": {
     "name": "#%% md\n"
    }
   }
  },
  {
   "cell_type": "code",
   "execution_count": 35,
   "outputs": [
    {
     "data": {
      "text/plain": "                       Model  Accuracy     AUC  Recall  Prec.     F1   Kappa  \\\nrf  Random Forest Classifier     0.848  0.9145  0.7029  0.771  0.734  0.6279   \n\n       MCC  TT (Sec)  \nrf  0.6303      0.06  ",
      "text/html": "<div>\n<style scoped>\n    .dataframe tbody tr th:only-of-type {\n        vertical-align: middle;\n    }\n\n    .dataframe tbody tr th {\n        vertical-align: top;\n    }\n\n    .dataframe thead th {\n        text-align: right;\n    }\n</style>\n<table border=\"1\" class=\"dataframe\">\n  <thead>\n    <tr style=\"text-align: right;\">\n      <th></th>\n      <th>Model</th>\n      <th>Accuracy</th>\n      <th>AUC</th>\n      <th>Recall</th>\n      <th>Prec.</th>\n      <th>F1</th>\n      <th>Kappa</th>\n      <th>MCC</th>\n      <th>TT (Sec)</th>\n    </tr>\n  </thead>\n  <tbody>\n    <tr>\n      <th>rf</th>\n      <td>Random Forest Classifier</td>\n      <td>0.848</td>\n      <td>0.9145</td>\n      <td>0.7029</td>\n      <td>0.771</td>\n      <td>0.734</td>\n      <td>0.6279</td>\n      <td>0.6303</td>\n      <td>0.06</td>\n    </tr>\n  </tbody>\n</table>\n</div>"
     },
     "metadata": {},
     "output_type": "display_data"
    },
    {
     "data": {
      "text/plain": "                       Model  Accuracy     AUC  Recall   Prec.      F1  \\\nrf  Random Forest Classifier     0.848  0.9145  0.7029  0.7710  0.7340   \nlr       Logistic Regression     0.732  0.8046  0.4084  0.5703  0.4724   \n\n     Kappa     MCC  TT (Sec)  \nrf  0.6279  0.6303     0.060  \nlr  0.3000  0.3094     0.004  ",
      "text/html": "<div>\n<style scoped>\n    .dataframe tbody tr th:only-of-type {\n        vertical-align: middle;\n    }\n\n    .dataframe tbody tr th {\n        vertical-align: top;\n    }\n\n    .dataframe thead th {\n        text-align: right;\n    }\n</style>\n<table border=\"1\" class=\"dataframe\">\n  <thead>\n    <tr style=\"text-align: right;\">\n      <th></th>\n      <th>Model</th>\n      <th>Accuracy</th>\n      <th>AUC</th>\n      <th>Recall</th>\n      <th>Prec.</th>\n      <th>F1</th>\n      <th>Kappa</th>\n      <th>MCC</th>\n      <th>TT (Sec)</th>\n    </tr>\n  </thead>\n  <tbody>\n    <tr>\n      <th>rf</th>\n      <td>Random Forest Classifier</td>\n      <td>0.848</td>\n      <td>0.9145</td>\n      <td>0.7029</td>\n      <td>0.7710</td>\n      <td>0.7340</td>\n      <td>0.6279</td>\n      <td>0.6303</td>\n      <td>0.060</td>\n    </tr>\n    <tr>\n      <th>lr</th>\n      <td>Logistic Regression</td>\n      <td>0.732</td>\n      <td>0.8046</td>\n      <td>0.4084</td>\n      <td>0.5703</td>\n      <td>0.4724</td>\n      <td>0.3000</td>\n      <td>0.3094</td>\n      <td>0.004</td>\n    </tr>\n  </tbody>\n</table>\n</div>"
     },
     "metadata": {},
     "output_type": "display_data"
    },
    {
     "data": {
      "text/plain": "                        Model  Accuracy     AUC  Recall   Prec.      F1  \\\nrf   Random Forest Classifier     0.848  0.9145  0.7029  0.7710  0.7340   \nknn    K Neighbors Classifier     0.826  0.8722  0.6658  0.7285  0.6951   \nlr        Logistic Regression     0.732  0.8046  0.4084  0.5703  0.4724   \n\n      Kappa     MCC  TT (Sec)  \nrf   0.6279  0.6303     0.060  \nknn  0.5737  0.5753     0.008  \nlr   0.3000  0.3094     0.004  ",
      "text/html": "<div>\n<style scoped>\n    .dataframe tbody tr th:only-of-type {\n        vertical-align: middle;\n    }\n\n    .dataframe tbody tr th {\n        vertical-align: top;\n    }\n\n    .dataframe thead th {\n        text-align: right;\n    }\n</style>\n<table border=\"1\" class=\"dataframe\">\n  <thead>\n    <tr style=\"text-align: right;\">\n      <th></th>\n      <th>Model</th>\n      <th>Accuracy</th>\n      <th>AUC</th>\n      <th>Recall</th>\n      <th>Prec.</th>\n      <th>F1</th>\n      <th>Kappa</th>\n      <th>MCC</th>\n      <th>TT (Sec)</th>\n    </tr>\n  </thead>\n  <tbody>\n    <tr>\n      <th>rf</th>\n      <td>Random Forest Classifier</td>\n      <td>0.848</td>\n      <td>0.9145</td>\n      <td>0.7029</td>\n      <td>0.7710</td>\n      <td>0.7340</td>\n      <td>0.6279</td>\n      <td>0.6303</td>\n      <td>0.060</td>\n    </tr>\n    <tr>\n      <th>knn</th>\n      <td>K Neighbors Classifier</td>\n      <td>0.826</td>\n      <td>0.8722</td>\n      <td>0.6658</td>\n      <td>0.7285</td>\n      <td>0.6951</td>\n      <td>0.5737</td>\n      <td>0.5753</td>\n      <td>0.008</td>\n    </tr>\n    <tr>\n      <th>lr</th>\n      <td>Logistic Regression</td>\n      <td>0.732</td>\n      <td>0.8046</td>\n      <td>0.4084</td>\n      <td>0.5703</td>\n      <td>0.4724</td>\n      <td>0.3000</td>\n      <td>0.3094</td>\n      <td>0.004</td>\n    </tr>\n  </tbody>\n</table>\n</div>"
     },
     "metadata": {},
     "output_type": "display_data"
    },
    {
     "data": {
      "text/plain": "                        Model  Accuracy     AUC  Recall   Prec.      F1  \\\nrf   Random Forest Classifier     0.848  0.9145  0.7029  0.7710  0.7340   \nknn    K Neighbors Classifier     0.826  0.8722  0.6658  0.7285  0.6951   \ndt   Decision Tree Classifier     0.804  0.7658  0.6722  0.6726  0.6714   \nlr        Logistic Regression     0.732  0.8046  0.4084  0.5703  0.4724   \n\n      Kappa     MCC  TT (Sec)  \nrf   0.6279  0.6303     0.060  \nknn  0.5737  0.5753     0.008  \ndt   0.5319  0.5327     0.004  \nlr   0.3000  0.3094     0.004  ",
      "text/html": "<div>\n<style scoped>\n    .dataframe tbody tr th:only-of-type {\n        vertical-align: middle;\n    }\n\n    .dataframe tbody tr th {\n        vertical-align: top;\n    }\n\n    .dataframe thead th {\n        text-align: right;\n    }\n</style>\n<table border=\"1\" class=\"dataframe\">\n  <thead>\n    <tr style=\"text-align: right;\">\n      <th></th>\n      <th>Model</th>\n      <th>Accuracy</th>\n      <th>AUC</th>\n      <th>Recall</th>\n      <th>Prec.</th>\n      <th>F1</th>\n      <th>Kappa</th>\n      <th>MCC</th>\n      <th>TT (Sec)</th>\n    </tr>\n  </thead>\n  <tbody>\n    <tr>\n      <th>rf</th>\n      <td>Random Forest Classifier</td>\n      <td>0.848</td>\n      <td>0.9145</td>\n      <td>0.7029</td>\n      <td>0.7710</td>\n      <td>0.7340</td>\n      <td>0.6279</td>\n      <td>0.6303</td>\n      <td>0.060</td>\n    </tr>\n    <tr>\n      <th>knn</th>\n      <td>K Neighbors Classifier</td>\n      <td>0.826</td>\n      <td>0.8722</td>\n      <td>0.6658</td>\n      <td>0.7285</td>\n      <td>0.6951</td>\n      <td>0.5737</td>\n      <td>0.5753</td>\n      <td>0.008</td>\n    </tr>\n    <tr>\n      <th>dt</th>\n      <td>Decision Tree Classifier</td>\n      <td>0.804</td>\n      <td>0.7658</td>\n      <td>0.6722</td>\n      <td>0.6726</td>\n      <td>0.6714</td>\n      <td>0.5319</td>\n      <td>0.5327</td>\n      <td>0.004</td>\n    </tr>\n    <tr>\n      <th>lr</th>\n      <td>Logistic Regression</td>\n      <td>0.732</td>\n      <td>0.8046</td>\n      <td>0.4084</td>\n      <td>0.5703</td>\n      <td>0.4724</td>\n      <td>0.3000</td>\n      <td>0.3094</td>\n      <td>0.004</td>\n    </tr>\n  </tbody>\n</table>\n</div>"
     },
     "metadata": {},
     "output_type": "display_data"
    },
    {
     "data": {
      "text/plain": "                        Model  Accuracy     AUC  Recall   Prec.      F1  \\\nrf   Random Forest Classifier     0.848  0.9145  0.7029  0.7710  0.7340   \nknn    K Neighbors Classifier     0.826  0.8722  0.6658  0.7285  0.6951   \ndt   Decision Tree Classifier     0.804  0.7658  0.6722  0.6726  0.6714   \nlr        Logistic Regression     0.732  0.8046  0.4084  0.5703  0.4724   \n\n      Kappa     MCC  TT (Sec)  \nrf   0.6279  0.6303     0.060  \nknn  0.5737  0.5753     0.008  \ndt   0.5319  0.5327     0.004  \nlr   0.3000  0.3094     0.004  ",
      "text/html": "<div>\n<style scoped>\n    .dataframe tbody tr th:only-of-type {\n        vertical-align: middle;\n    }\n\n    .dataframe tbody tr th {\n        vertical-align: top;\n    }\n\n    .dataframe thead th {\n        text-align: right;\n    }\n</style>\n<table border=\"1\" class=\"dataframe\">\n  <thead>\n    <tr style=\"text-align: right;\">\n      <th></th>\n      <th>Model</th>\n      <th>Accuracy</th>\n      <th>AUC</th>\n      <th>Recall</th>\n      <th>Prec.</th>\n      <th>F1</th>\n      <th>Kappa</th>\n      <th>MCC</th>\n      <th>TT (Sec)</th>\n    </tr>\n  </thead>\n  <tbody>\n    <tr>\n      <th>rf</th>\n      <td>Random Forest Classifier</td>\n      <td>0.848</td>\n      <td>0.9145</td>\n      <td>0.7029</td>\n      <td>0.7710</td>\n      <td>0.7340</td>\n      <td>0.6279</td>\n      <td>0.6303</td>\n      <td>0.060</td>\n    </tr>\n    <tr>\n      <th>knn</th>\n      <td>K Neighbors Classifier</td>\n      <td>0.826</td>\n      <td>0.8722</td>\n      <td>0.6658</td>\n      <td>0.7285</td>\n      <td>0.6951</td>\n      <td>0.5737</td>\n      <td>0.5753</td>\n      <td>0.008</td>\n    </tr>\n    <tr>\n      <th>dt</th>\n      <td>Decision Tree Classifier</td>\n      <td>0.804</td>\n      <td>0.7658</td>\n      <td>0.6722</td>\n      <td>0.6726</td>\n      <td>0.6714</td>\n      <td>0.5319</td>\n      <td>0.5327</td>\n      <td>0.004</td>\n    </tr>\n    <tr>\n      <th>lr</th>\n      <td>Logistic Regression</td>\n      <td>0.732</td>\n      <td>0.8046</td>\n      <td>0.4084</td>\n      <td>0.5703</td>\n      <td>0.4724</td>\n      <td>0.3000</td>\n      <td>0.3094</td>\n      <td>0.004</td>\n    </tr>\n  </tbody>\n</table>\n</div>"
     },
     "metadata": {},
     "output_type": "display_data"
    }
   ],
   "source": [
    "model_types_to_use = [\n",
    "    \"rf\",\n",
    "    \"lr\",\n",
    "    \"knn\",\n",
    "    #\"mlp\",  # too slow\n",
    "    \"dt\",\n",
    "    #\"xgboost\",\n",
    "    #\"lightgbm\",\n",
    "    #\"catboost\",\n",
    "]\n",
    "\n",
    "selected_models = compare_models(include=model_types_to_use,\n",
    "errors=\"raise\",\n",
    "n_select=len(model_types_to_use)  # all models included\n",
    ")"
   ],
   "metadata": {
    "collapsed": false,
    "pycharm": {
     "name": "#%%\n"
    }
   }
  },
  {
   "cell_type": "code",
   "execution_count": 36,
   "outputs": [
    {
     "data": {
      "text/plain": "                      Model  Accuracy     AUC  Recall   Prec.      F1   Kappa  \\\n0  Random Forest Classifier    0.8629  0.9265  0.7524  0.7612  0.7568  0.6613   \n\n      MCC  \n0  0.6613  ",
      "text/html": "<div>\n<style scoped>\n    .dataframe tbody tr th:only-of-type {\n        vertical-align: middle;\n    }\n\n    .dataframe tbody tr th {\n        vertical-align: top;\n    }\n\n    .dataframe thead th {\n        text-align: right;\n    }\n</style>\n<table border=\"1\" class=\"dataframe\">\n  <thead>\n    <tr style=\"text-align: right;\">\n      <th></th>\n      <th>Model</th>\n      <th>Accuracy</th>\n      <th>AUC</th>\n      <th>Recall</th>\n      <th>Prec.</th>\n      <th>F1</th>\n      <th>Kappa</th>\n      <th>MCC</th>\n    </tr>\n  </thead>\n  <tbody>\n    <tr>\n      <th>0</th>\n      <td>Random Forest Classifier</td>\n      <td>0.8629</td>\n      <td>0.9265</td>\n      <td>0.7524</td>\n      <td>0.7612</td>\n      <td>0.7568</td>\n      <td>0.6613</td>\n      <td>0.6613</td>\n    </tr>\n  </tbody>\n</table>\n</div>"
     },
     "metadata": {},
     "output_type": "display_data"
    },
    {
     "data": {
      "text/plain": "                    Model  Accuracy     AUC  Recall   Prec.      F1  Kappa  \\\n0  K Neighbors Classifier    0.8455  0.8971  0.6948  0.7433  0.7183  0.612   \n\n      MCC  \n0  0.6126  ",
      "text/html": "<div>\n<style scoped>\n    .dataframe tbody tr th:only-of-type {\n        vertical-align: middle;\n    }\n\n    .dataframe tbody tr th {\n        vertical-align: top;\n    }\n\n    .dataframe thead th {\n        text-align: right;\n    }\n</style>\n<table border=\"1\" class=\"dataframe\">\n  <thead>\n    <tr style=\"text-align: right;\">\n      <th></th>\n      <th>Model</th>\n      <th>Accuracy</th>\n      <th>AUC</th>\n      <th>Recall</th>\n      <th>Prec.</th>\n      <th>F1</th>\n      <th>Kappa</th>\n      <th>MCC</th>\n    </tr>\n  </thead>\n  <tbody>\n    <tr>\n      <th>0</th>\n      <td>K Neighbors Classifier</td>\n      <td>0.8455</td>\n      <td>0.8971</td>\n      <td>0.6948</td>\n      <td>0.7433</td>\n      <td>0.7183</td>\n      <td>0.612</td>\n      <td>0.6126</td>\n    </tr>\n  </tbody>\n</table>\n</div>"
     },
     "metadata": {},
     "output_type": "display_data"
    },
    {
     "data": {
      "text/plain": "                      Model  Accuracy     AUC  Recall   Prec.      F1   Kappa  \\\n0  Decision Tree Classifier    0.8128  0.7673  0.6622  0.6725  0.6673  0.5371   \n\n      MCC  \n0  0.5371  ",
      "text/html": "<div>\n<style scoped>\n    .dataframe tbody tr th:only-of-type {\n        vertical-align: middle;\n    }\n\n    .dataframe tbody tr th {\n        vertical-align: top;\n    }\n\n    .dataframe thead th {\n        text-align: right;\n    }\n</style>\n<table border=\"1\" class=\"dataframe\">\n  <thead>\n    <tr style=\"text-align: right;\">\n      <th></th>\n      <th>Model</th>\n      <th>Accuracy</th>\n      <th>AUC</th>\n      <th>Recall</th>\n      <th>Prec.</th>\n      <th>F1</th>\n      <th>Kappa</th>\n      <th>MCC</th>\n    </tr>\n  </thead>\n  <tbody>\n    <tr>\n      <th>0</th>\n      <td>Decision Tree Classifier</td>\n      <td>0.8128</td>\n      <td>0.7673</td>\n      <td>0.6622</td>\n      <td>0.6725</td>\n      <td>0.6673</td>\n      <td>0.5371</td>\n      <td>0.5371</td>\n    </tr>\n  </tbody>\n</table>\n</div>"
     },
     "metadata": {},
     "output_type": "display_data"
    },
    {
     "data": {
      "text/plain": "                 Model  Accuracy     AUC  Recall   Prec.      F1   Kappa  \\\n0  Logistic Regression    0.7459  0.8126  0.4242  0.5696  0.4862  0.3222   \n\n      MCC  \n0  0.3284  ",
      "text/html": "<div>\n<style scoped>\n    .dataframe tbody tr th:only-of-type {\n        vertical-align: middle;\n    }\n\n    .dataframe tbody tr th {\n        vertical-align: top;\n    }\n\n    .dataframe thead th {\n        text-align: right;\n    }\n</style>\n<table border=\"1\" class=\"dataframe\">\n  <thead>\n    <tr style=\"text-align: right;\">\n      <th></th>\n      <th>Model</th>\n      <th>Accuracy</th>\n      <th>AUC</th>\n      <th>Recall</th>\n      <th>Prec.</th>\n      <th>F1</th>\n      <th>Kappa</th>\n      <th>MCC</th>\n    </tr>\n  </thead>\n  <tbody>\n    <tr>\n      <th>0</th>\n      <td>Logistic Regression</td>\n      <td>0.7459</td>\n      <td>0.8126</td>\n      <td>0.4242</td>\n      <td>0.5696</td>\n      <td>0.4862</td>\n      <td>0.3222</td>\n      <td>0.3284</td>\n    </tr>\n  </tbody>\n</table>\n</div>"
     },
     "metadata": {},
     "output_type": "display_data"
    },
    {
     "data": {
      "text/plain": "                    model  accuracy\n0  RandomForestClassifier  0.862894\n1    KNeighborsClassifier  0.845484\n2  DecisionTreeClassifier  0.812840\n3      LogisticRegression  0.745919",
      "text/html": "<div>\n<style scoped>\n    .dataframe tbody tr th:only-of-type {\n        vertical-align: middle;\n    }\n\n    .dataframe tbody tr th {\n        vertical-align: top;\n    }\n\n    .dataframe thead th {\n        text-align: right;\n    }\n</style>\n<table border=\"1\" class=\"dataframe\">\n  <thead>\n    <tr style=\"text-align: right;\">\n      <th></th>\n      <th>model</th>\n      <th>accuracy</th>\n    </tr>\n  </thead>\n  <tbody>\n    <tr>\n      <th>0</th>\n      <td>RandomForestClassifier</td>\n      <td>0.862894</td>\n    </tr>\n    <tr>\n      <th>1</th>\n      <td>KNeighborsClassifier</td>\n      <td>0.845484</td>\n    </tr>\n    <tr>\n      <th>2</th>\n      <td>DecisionTreeClassifier</td>\n      <td>0.812840</td>\n    </tr>\n    <tr>\n      <th>3</th>\n      <td>LogisticRegression</td>\n      <td>0.745919</td>\n    </tr>\n  </tbody>\n</table>\n</div>"
     },
     "execution_count": 36,
     "metadata": {},
     "output_type": "execute_result"
    }
   ],
   "source": [
    "model_names = []\n",
    "accuracy_scores = []\n",
    "\n",
    "for model in selected_models:\n",
    "    model_names.append(model.__class__.__name__)\n",
    "    prediction_df = predict_model(model)\n",
    "    accuracy_scores.append(accuracy_score(prediction_df[\"Label\"], prediction_df[\"y\"]))\n",
    "\n",
    "predict_df = pd.DataFrame(data={\"model\": model_names, \"accuracy\": accuracy_scores}).sort_values(by=\"accuracy\", ascending=False).reset_index(drop=True)\n",
    "predict_df"
   ],
   "metadata": {
    "collapsed": false,
    "pycharm": {
     "name": "#%%\n"
    }
   }
  },
  {
   "cell_type": "markdown",
   "source": [
    "## Tune Models"
   ],
   "metadata": {
    "collapsed": false,
    "pycharm": {
     "name": "#%% md\n"
    }
   }
  },
  {
   "cell_type": "code",
   "execution_count": 37,
   "outputs": [
    {
     "name": "stdout",
     "output_type": "stream",
     "text": [
      "Fitting 5 folds for each of 25 candidates, totalling 125 fits\n"
     ]
    },
    {
     "data": {
      "text/plain": "      Accuracy     AUC  Recall   Prec.      F1   Kappa     MCC\n0       0.8000  0.8682  0.6500  0.6724  0.6610  0.5192  0.5194\n1       0.8800  0.9461  0.7627  0.8182  0.7895  0.7057  0.7066\n2       0.8100  0.8961  0.6441  0.6909  0.6667  0.5340  0.5347\n3       0.8700  0.8953  0.7119  0.8235  0.7636  0.6746  0.6780\n4       0.8900  0.9298  0.7288  0.8776  0.7963  0.7218  0.7277\nMean    0.8500  0.9071  0.6995  0.7765  0.7354  0.6311  0.6333\nSD      0.0374  0.0276  0.0459  0.0804  0.0595  0.0868  0.0883",
      "text/html": "<div>\n<style scoped>\n    .dataframe tbody tr th:only-of-type {\n        vertical-align: middle;\n    }\n\n    .dataframe tbody tr th {\n        vertical-align: top;\n    }\n\n    .dataframe thead th {\n        text-align: right;\n    }\n</style>\n<table border=\"1\" class=\"dataframe\">\n  <thead>\n    <tr style=\"text-align: right;\">\n      <th></th>\n      <th>Accuracy</th>\n      <th>AUC</th>\n      <th>Recall</th>\n      <th>Prec.</th>\n      <th>F1</th>\n      <th>Kappa</th>\n      <th>MCC</th>\n    </tr>\n  </thead>\n  <tbody>\n    <tr>\n      <th>0</th>\n      <td>0.8000</td>\n      <td>0.8682</td>\n      <td>0.6500</td>\n      <td>0.6724</td>\n      <td>0.6610</td>\n      <td>0.5192</td>\n      <td>0.5194</td>\n    </tr>\n    <tr>\n      <th>1</th>\n      <td>0.8800</td>\n      <td>0.9461</td>\n      <td>0.7627</td>\n      <td>0.8182</td>\n      <td>0.7895</td>\n      <td>0.7057</td>\n      <td>0.7066</td>\n    </tr>\n    <tr>\n      <th>2</th>\n      <td>0.8100</td>\n      <td>0.8961</td>\n      <td>0.6441</td>\n      <td>0.6909</td>\n      <td>0.6667</td>\n      <td>0.5340</td>\n      <td>0.5347</td>\n    </tr>\n    <tr>\n      <th>3</th>\n      <td>0.8700</td>\n      <td>0.8953</td>\n      <td>0.7119</td>\n      <td>0.8235</td>\n      <td>0.7636</td>\n      <td>0.6746</td>\n      <td>0.6780</td>\n    </tr>\n    <tr>\n      <th>4</th>\n      <td>0.8900</td>\n      <td>0.9298</td>\n      <td>0.7288</td>\n      <td>0.8776</td>\n      <td>0.7963</td>\n      <td>0.7218</td>\n      <td>0.7277</td>\n    </tr>\n    <tr>\n      <th>Mean</th>\n      <td>0.8500</td>\n      <td>0.9071</td>\n      <td>0.6995</td>\n      <td>0.7765</td>\n      <td>0.7354</td>\n      <td>0.6311</td>\n      <td>0.6333</td>\n    </tr>\n    <tr>\n      <th>SD</th>\n      <td>0.0374</td>\n      <td>0.0276</td>\n      <td>0.0459</td>\n      <td>0.0804</td>\n      <td>0.0595</td>\n      <td>0.0868</td>\n      <td>0.0883</td>\n    </tr>\n  </tbody>\n</table>\n</div>"
     },
     "metadata": {},
     "output_type": "display_data"
    },
    {
     "name": "stdout",
     "output_type": "stream",
     "text": [
      "RandomForestClassifier(bootstrap=True, ccp_alpha=0.0, class_weight={},\n",
      "                       criterion='gini', max_depth=9, max_features='sqrt',\n",
      "                       max_leaf_nodes=None, max_samples=None,\n",
      "                       min_impurity_decrease=0, min_samples_leaf=6,\n",
      "                       min_samples_split=5, min_weight_fraction_leaf=0.0,\n",
      "                       n_estimators=120, n_jobs=-1, oob_score=False,\n",
      "                       random_state=42, verbose=0, warm_start=False)\n",
      "Fitting 5 folds for each of 25 candidates, totalling 125 fits\n"
     ]
    },
    {
     "data": {
      "text/plain": "      Accuracy     AUC  Recall   Prec.      F1   Kappa     MCC\n0       0.8200  0.7902  0.5833  0.7609  0.6604  0.5408  0.5497\n1       0.8600  0.8687  0.5593  0.9429  0.7021  0.6183  0.6543\n2       0.8150  0.7923  0.5254  0.7750  0.6263  0.5093  0.5263\n3       0.8150  0.8122  0.5085  0.7895  0.6186  0.5039  0.5251\n4       0.8350  0.8469  0.5254  0.8611  0.6526  0.5526  0.5816\nMean    0.8290  0.8221  0.5404  0.8259  0.6520  0.5450  0.5674\nSD      0.0171  0.0309  0.0271  0.0679  0.0295  0.0410  0.0480",
      "text/html": "<div>\n<style scoped>\n    .dataframe tbody tr th:only-of-type {\n        vertical-align: middle;\n    }\n\n    .dataframe tbody tr th {\n        vertical-align: top;\n    }\n\n    .dataframe thead th {\n        text-align: right;\n    }\n</style>\n<table border=\"1\" class=\"dataframe\">\n  <thead>\n    <tr style=\"text-align: right;\">\n      <th></th>\n      <th>Accuracy</th>\n      <th>AUC</th>\n      <th>Recall</th>\n      <th>Prec.</th>\n      <th>F1</th>\n      <th>Kappa</th>\n      <th>MCC</th>\n    </tr>\n  </thead>\n  <tbody>\n    <tr>\n      <th>0</th>\n      <td>0.8200</td>\n      <td>0.7902</td>\n      <td>0.5833</td>\n      <td>0.7609</td>\n      <td>0.6604</td>\n      <td>0.5408</td>\n      <td>0.5497</td>\n    </tr>\n    <tr>\n      <th>1</th>\n      <td>0.8600</td>\n      <td>0.8687</td>\n      <td>0.5593</td>\n      <td>0.9429</td>\n      <td>0.7021</td>\n      <td>0.6183</td>\n      <td>0.6543</td>\n    </tr>\n    <tr>\n      <th>2</th>\n      <td>0.8150</td>\n      <td>0.7923</td>\n      <td>0.5254</td>\n      <td>0.7750</td>\n      <td>0.6263</td>\n      <td>0.5093</td>\n      <td>0.5263</td>\n    </tr>\n    <tr>\n      <th>3</th>\n      <td>0.8150</td>\n      <td>0.8122</td>\n      <td>0.5085</td>\n      <td>0.7895</td>\n      <td>0.6186</td>\n      <td>0.5039</td>\n      <td>0.5251</td>\n    </tr>\n    <tr>\n      <th>4</th>\n      <td>0.8350</td>\n      <td>0.8469</td>\n      <td>0.5254</td>\n      <td>0.8611</td>\n      <td>0.6526</td>\n      <td>0.5526</td>\n      <td>0.5816</td>\n    </tr>\n    <tr>\n      <th>Mean</th>\n      <td>0.8290</td>\n      <td>0.8221</td>\n      <td>0.5404</td>\n      <td>0.8259</td>\n      <td>0.6520</td>\n      <td>0.5450</td>\n      <td>0.5674</td>\n    </tr>\n    <tr>\n      <th>SD</th>\n      <td>0.0171</td>\n      <td>0.0309</td>\n      <td>0.0271</td>\n      <td>0.0679</td>\n      <td>0.0295</td>\n      <td>0.0410</td>\n      <td>0.0480</td>\n    </tr>\n  </tbody>\n</table>\n</div>"
     },
     "metadata": {},
     "output_type": "display_data"
    },
    {
     "name": "stdout",
     "output_type": "stream",
     "text": [
      "KNeighborsClassifier(algorithm='auto', leaf_size=30, metric='euclidean',\n",
      "                     metric_params=None, n_jobs=-1, n_neighbors=2, p=2,\n",
      "                     weights='uniform')\n",
      "Fitting 5 folds for each of 25 candidates, totalling 125 fits\n"
     ]
    },
    {
     "data": {
      "text/plain": "      Accuracy     AUC  Recall   Prec.      F1   Kappa     MCC\n0       0.8150  0.8348  0.7000  0.6885  0.6942  0.5616  0.5617\n1       0.8250  0.8660  0.6610  0.7222  0.6903  0.5686  0.5697\n2       0.7400  0.7684  0.5932  0.5556  0.5738  0.3870  0.3874\n3       0.8100  0.8212  0.6949  0.6721  0.6833  0.5477  0.5478\n4       0.8550  0.8410  0.6610  0.8125  0.7290  0.6314  0.6377\nMean    0.8090  0.8263  0.6620  0.6902  0.6741  0.5393  0.5409\nSD      0.0379  0.0324  0.0381  0.0830  0.0526  0.0814  0.0827",
      "text/html": "<div>\n<style scoped>\n    .dataframe tbody tr th:only-of-type {\n        vertical-align: middle;\n    }\n\n    .dataframe tbody tr th {\n        vertical-align: top;\n    }\n\n    .dataframe thead th {\n        text-align: right;\n    }\n</style>\n<table border=\"1\" class=\"dataframe\">\n  <thead>\n    <tr style=\"text-align: right;\">\n      <th></th>\n      <th>Accuracy</th>\n      <th>AUC</th>\n      <th>Recall</th>\n      <th>Prec.</th>\n      <th>F1</th>\n      <th>Kappa</th>\n      <th>MCC</th>\n    </tr>\n  </thead>\n  <tbody>\n    <tr>\n      <th>0</th>\n      <td>0.8150</td>\n      <td>0.8348</td>\n      <td>0.7000</td>\n      <td>0.6885</td>\n      <td>0.6942</td>\n      <td>0.5616</td>\n      <td>0.5617</td>\n    </tr>\n    <tr>\n      <th>1</th>\n      <td>0.8250</td>\n      <td>0.8660</td>\n      <td>0.6610</td>\n      <td>0.7222</td>\n      <td>0.6903</td>\n      <td>0.5686</td>\n      <td>0.5697</td>\n    </tr>\n    <tr>\n      <th>2</th>\n      <td>0.7400</td>\n      <td>0.7684</td>\n      <td>0.5932</td>\n      <td>0.5556</td>\n      <td>0.5738</td>\n      <td>0.3870</td>\n      <td>0.3874</td>\n    </tr>\n    <tr>\n      <th>3</th>\n      <td>0.8100</td>\n      <td>0.8212</td>\n      <td>0.6949</td>\n      <td>0.6721</td>\n      <td>0.6833</td>\n      <td>0.5477</td>\n      <td>0.5478</td>\n    </tr>\n    <tr>\n      <th>4</th>\n      <td>0.8550</td>\n      <td>0.8410</td>\n      <td>0.6610</td>\n      <td>0.8125</td>\n      <td>0.7290</td>\n      <td>0.6314</td>\n      <td>0.6377</td>\n    </tr>\n    <tr>\n      <th>Mean</th>\n      <td>0.8090</td>\n      <td>0.8263</td>\n      <td>0.6620</td>\n      <td>0.6902</td>\n      <td>0.6741</td>\n      <td>0.5393</td>\n      <td>0.5409</td>\n    </tr>\n    <tr>\n      <th>SD</th>\n      <td>0.0379</td>\n      <td>0.0324</td>\n      <td>0.0381</td>\n      <td>0.0830</td>\n      <td>0.0526</td>\n      <td>0.0814</td>\n      <td>0.0827</td>\n    </tr>\n  </tbody>\n</table>\n</div>"
     },
     "metadata": {},
     "output_type": "display_data"
    },
    {
     "name": "stdout",
     "output_type": "stream",
     "text": [
      "DecisionTreeClassifier(ccp_alpha=0.0, class_weight=None, criterion='gini',\n",
      "                       max_depth=11, max_features=1.0, max_leaf_nodes=None,\n",
      "                       min_impurity_decrease=0.0001, min_samples_leaf=3,\n",
      "                       min_samples_split=10, min_weight_fraction_leaf=0.0,\n",
      "                       random_state=42, splitter='best')\n",
      "Fitting 5 folds for each of 25 candidates, totalling 125 fits\n"
     ]
    },
    {
     "data": {
      "text/plain": "      Accuracy     AUC  Recall   Prec.      F1   Kappa     MCC\n0       0.7350  0.7798  0.5333  0.5614  0.5470  0.3599  0.3601\n1       0.7650  0.8680  0.3898  0.6765  0.4946  0.3556  0.3786\n2       0.7350  0.8002  0.3898  0.5750  0.4646  0.2971  0.3070\n3       0.7050  0.7578  0.3729  0.5000  0.4272  0.2342  0.2387\n4       0.7200  0.8167  0.3559  0.5385  0.4286  0.2532  0.2628\nMean    0.7320  0.8045  0.4084  0.5703  0.4724  0.3000  0.3094\nSD      0.0199  0.0374  0.0637  0.0589  0.0449  0.0514  0.0539",
      "text/html": "<div>\n<style scoped>\n    .dataframe tbody tr th:only-of-type {\n        vertical-align: middle;\n    }\n\n    .dataframe tbody tr th {\n        vertical-align: top;\n    }\n\n    .dataframe thead th {\n        text-align: right;\n    }\n</style>\n<table border=\"1\" class=\"dataframe\">\n  <thead>\n    <tr style=\"text-align: right;\">\n      <th></th>\n      <th>Accuracy</th>\n      <th>AUC</th>\n      <th>Recall</th>\n      <th>Prec.</th>\n      <th>F1</th>\n      <th>Kappa</th>\n      <th>MCC</th>\n    </tr>\n  </thead>\n  <tbody>\n    <tr>\n      <th>0</th>\n      <td>0.7350</td>\n      <td>0.7798</td>\n      <td>0.5333</td>\n      <td>0.5614</td>\n      <td>0.5470</td>\n      <td>0.3599</td>\n      <td>0.3601</td>\n    </tr>\n    <tr>\n      <th>1</th>\n      <td>0.7650</td>\n      <td>0.8680</td>\n      <td>0.3898</td>\n      <td>0.6765</td>\n      <td>0.4946</td>\n      <td>0.3556</td>\n      <td>0.3786</td>\n    </tr>\n    <tr>\n      <th>2</th>\n      <td>0.7350</td>\n      <td>0.8002</td>\n      <td>0.3898</td>\n      <td>0.5750</td>\n      <td>0.4646</td>\n      <td>0.2971</td>\n      <td>0.3070</td>\n    </tr>\n    <tr>\n      <th>3</th>\n      <td>0.7050</td>\n      <td>0.7578</td>\n      <td>0.3729</td>\n      <td>0.5000</td>\n      <td>0.4272</td>\n      <td>0.2342</td>\n      <td>0.2387</td>\n    </tr>\n    <tr>\n      <th>4</th>\n      <td>0.7200</td>\n      <td>0.8167</td>\n      <td>0.3559</td>\n      <td>0.5385</td>\n      <td>0.4286</td>\n      <td>0.2532</td>\n      <td>0.2628</td>\n    </tr>\n    <tr>\n      <th>Mean</th>\n      <td>0.7320</td>\n      <td>0.8045</td>\n      <td>0.4084</td>\n      <td>0.5703</td>\n      <td>0.4724</td>\n      <td>0.3000</td>\n      <td>0.3094</td>\n    </tr>\n    <tr>\n      <th>SD</th>\n      <td>0.0199</td>\n      <td>0.0374</td>\n      <td>0.0637</td>\n      <td>0.0589</td>\n      <td>0.0449</td>\n      <td>0.0514</td>\n      <td>0.0539</td>\n    </tr>\n  </tbody>\n</table>\n</div>"
     },
     "metadata": {},
     "output_type": "display_data"
    },
    {
     "name": "stdout",
     "output_type": "stream",
     "text": [
      "LogisticRegression(C=1.0, class_weight=None, dual=False, fit_intercept=True,\n",
      "                   intercept_scaling=1, l1_ratio=None, max_iter=1000,\n",
      "                   multi_class='auto', n_jobs=None, penalty='l2',\n",
      "                   random_state=42, solver='lbfgs', tol=0.0001, verbose=0,\n",
      "                   warm_start=False)\n"
     ]
    }
   ],
   "source": [
    "#tuned_models = [tune_model(model, choose_better=True, n_iter=100) for model  in selected_models]\n",
    "tuned_models = []\n",
    "for model in selected_models:\n",
    "    tuned_model = tune_model(model, choose_better=True, n_iter=25)\n",
    "    tuned_models.append(tuned_model)\n",
    "    print(tuned_model)"
   ],
   "metadata": {
    "collapsed": false,
    "pycharm": {
     "name": "#%%\n"
    }
   }
  },
  {
   "cell_type": "code",
   "execution_count": 38,
   "outputs": [
    {
     "data": {
      "text/plain": "                      Model  Accuracy     AUC  Recall   Prec.      F1   Kappa  \\\n0  Random Forest Classifier     0.852  0.9154  0.7063  0.7556  0.7302  0.6284   \n\n     MCC  \n0  0.629  ",
      "text/html": "<div>\n<style scoped>\n    .dataframe tbody tr th:only-of-type {\n        vertical-align: middle;\n    }\n\n    .dataframe tbody tr th {\n        vertical-align: top;\n    }\n\n    .dataframe thead th {\n        text-align: right;\n    }\n</style>\n<table border=\"1\" class=\"dataframe\">\n  <thead>\n    <tr style=\"text-align: right;\">\n      <th></th>\n      <th>Model</th>\n      <th>Accuracy</th>\n      <th>AUC</th>\n      <th>Recall</th>\n      <th>Prec.</th>\n      <th>F1</th>\n      <th>Kappa</th>\n      <th>MCC</th>\n    </tr>\n  </thead>\n  <tbody>\n    <tr>\n      <th>0</th>\n      <td>Random Forest Classifier</td>\n      <td>0.852</td>\n      <td>0.9154</td>\n      <td>0.7063</td>\n      <td>0.7556</td>\n      <td>0.7302</td>\n      <td>0.6284</td>\n      <td>0.629</td>\n    </tr>\n  </tbody>\n</table>\n</div>"
     },
     "metadata": {},
     "output_type": "display_data"
    },
    {
     "data": {
      "text/plain": "                    Model  Accuracy     AUC  Recall   Prec.      F1  Kappa  \\\n0  K Neighbors Classifier    0.8232  0.8439  0.4856  0.8161  0.6089  0.504   \n\n      MCC  \n0  0.5324  ",
      "text/html": "<div>\n<style scoped>\n    .dataframe tbody tr th:only-of-type {\n        vertical-align: middle;\n    }\n\n    .dataframe tbody tr th {\n        vertical-align: top;\n    }\n\n    .dataframe thead th {\n        text-align: right;\n    }\n</style>\n<table border=\"1\" class=\"dataframe\">\n  <thead>\n    <tr style=\"text-align: right;\">\n      <th></th>\n      <th>Model</th>\n      <th>Accuracy</th>\n      <th>AUC</th>\n      <th>Recall</th>\n      <th>Prec.</th>\n      <th>F1</th>\n      <th>Kappa</th>\n      <th>MCC</th>\n    </tr>\n  </thead>\n  <tbody>\n    <tr>\n      <th>0</th>\n      <td>K Neighbors Classifier</td>\n      <td>0.8232</td>\n      <td>0.8439</td>\n      <td>0.4856</td>\n      <td>0.8161</td>\n      <td>0.6089</td>\n      <td>0.504</td>\n      <td>0.5324</td>\n    </tr>\n  </tbody>\n</table>\n</div>"
     },
     "metadata": {},
     "output_type": "display_data"
    },
    {
     "data": {
      "text/plain": "                      Model  Accuracy     AUC  Recall   Prec.      F1   Kappa  \\\n0  Decision Tree Classifier    0.8134  0.8121  0.6411  0.6816  0.6607  0.5322   \n\n      MCC  \n0  0.5327  ",
      "text/html": "<div>\n<style scoped>\n    .dataframe tbody tr th:only-of-type {\n        vertical-align: middle;\n    }\n\n    .dataframe tbody tr th {\n        vertical-align: top;\n    }\n\n    .dataframe thead th {\n        text-align: right;\n    }\n</style>\n<table border=\"1\" class=\"dataframe\">\n  <thead>\n    <tr style=\"text-align: right;\">\n      <th></th>\n      <th>Model</th>\n      <th>Accuracy</th>\n      <th>AUC</th>\n      <th>Recall</th>\n      <th>Prec.</th>\n      <th>F1</th>\n      <th>Kappa</th>\n      <th>MCC</th>\n    </tr>\n  </thead>\n  <tbody>\n    <tr>\n      <th>0</th>\n      <td>Decision Tree Classifier</td>\n      <td>0.8134</td>\n      <td>0.8121</td>\n      <td>0.6411</td>\n      <td>0.6816</td>\n      <td>0.6607</td>\n      <td>0.5322</td>\n      <td>0.5327</td>\n    </tr>\n  </tbody>\n</table>\n</div>"
     },
     "metadata": {},
     "output_type": "display_data"
    },
    {
     "data": {
      "text/plain": "                 Model  Accuracy     AUC  Recall   Prec.      F1   Kappa  \\\n0  Logistic Regression    0.7459  0.8126  0.4242  0.5696  0.4862  0.3222   \n\n      MCC  \n0  0.3284  ",
      "text/html": "<div>\n<style scoped>\n    .dataframe tbody tr th:only-of-type {\n        vertical-align: middle;\n    }\n\n    .dataframe tbody tr th {\n        vertical-align: top;\n    }\n\n    .dataframe thead th {\n        text-align: right;\n    }\n</style>\n<table border=\"1\" class=\"dataframe\">\n  <thead>\n    <tr style=\"text-align: right;\">\n      <th></th>\n      <th>Model</th>\n      <th>Accuracy</th>\n      <th>AUC</th>\n      <th>Recall</th>\n      <th>Prec.</th>\n      <th>F1</th>\n      <th>Kappa</th>\n      <th>MCC</th>\n    </tr>\n  </thead>\n  <tbody>\n    <tr>\n      <th>0</th>\n      <td>Logistic Regression</td>\n      <td>0.7459</td>\n      <td>0.8126</td>\n      <td>0.4242</td>\n      <td>0.5696</td>\n      <td>0.4862</td>\n      <td>0.3222</td>\n      <td>0.3284</td>\n    </tr>\n  </tbody>\n</table>\n</div>"
     },
     "metadata": {},
     "output_type": "display_data"
    },
    {
     "data": {
      "text/plain": "                          model  accuracy\n0  RandomForestClassifier tuned  0.852013\n1    KNeighborsClassifier tuned  0.823177\n2  DecisionTreeClassifier tuned  0.813384\n3      LogisticRegression tuned  0.745919",
      "text/html": "<div>\n<style scoped>\n    .dataframe tbody tr th:only-of-type {\n        vertical-align: middle;\n    }\n\n    .dataframe tbody tr th {\n        vertical-align: top;\n    }\n\n    .dataframe thead th {\n        text-align: right;\n    }\n</style>\n<table border=\"1\" class=\"dataframe\">\n  <thead>\n    <tr style=\"text-align: right;\">\n      <th></th>\n      <th>model</th>\n      <th>accuracy</th>\n    </tr>\n  </thead>\n  <tbody>\n    <tr>\n      <th>0</th>\n      <td>RandomForestClassifier tuned</td>\n      <td>0.852013</td>\n    </tr>\n    <tr>\n      <th>1</th>\n      <td>KNeighborsClassifier tuned</td>\n      <td>0.823177</td>\n    </tr>\n    <tr>\n      <th>2</th>\n      <td>DecisionTreeClassifier tuned</td>\n      <td>0.813384</td>\n    </tr>\n    <tr>\n      <th>3</th>\n      <td>LogisticRegression tuned</td>\n      <td>0.745919</td>\n    </tr>\n  </tbody>\n</table>\n</div>"
     },
     "execution_count": 38,
     "metadata": {},
     "output_type": "execute_result"
    }
   ],
   "source": [
    "model_names = []\n",
    "accuracy_scores = []\n",
    "\n",
    "for model in tuned_models:\n",
    "    model_names.append(f\"{model.__class__.__name__} tuned\")\n",
    "    predict_df_tuned = predict_model(model)\n",
    "    accuracy_scores.append(accuracy_score(predict_df_tuned[\"Label\"], predict_df_tuned[\"y\"]))\n",
    "\n",
    "predict_df_tuned = pd.DataFrame(data={\"model\": model_names, \"accuracy\": accuracy_scores}).sort_values(by=\"accuracy\", ascending=False).reset_index(drop=True)\n",
    "predict_df_tuned"
   ],
   "metadata": {
    "collapsed": false,
    "pycharm": {
     "name": "#%%\n"
    }
   }
  },
  {
   "cell_type": "markdown",
   "source": [
    "## Stack the tuned models\n"
   ],
   "metadata": {
    "collapsed": false,
    "pycharm": {
     "name": "#%% md\n"
    }
   }
  },
  {
   "cell_type": "code",
   "execution_count": 39,
   "outputs": [
    {
     "data": {
      "text/plain": "      Accuracy       AUC    Recall     Prec.        F1     Kappa       MCC\n0     0.795000  0.890238  0.633333  0.666667  0.649573  0.504831  0.505163\n1     0.870000  0.954442  0.694915  0.836735  0.759259  0.671261  0.676691\n2     0.820000  0.891574  0.644068  0.716981  0.678571  0.554069  0.555606\n3     0.845000  0.892295  0.711864  0.750000  0.730435  0.621767  0.622184\n4     0.865000  0.928237  0.694915  0.820000  0.752294  0.660377  0.664650\nMean  0.839000  0.911357  0.675819  0.758076  0.714026  0.602461  0.604859\nSD    0.028178  0.025853  0.031118  0.063453  0.042874  0.063771  0.065422",
      "text/html": "<div>\n<style scoped>\n    .dataframe tbody tr th:only-of-type {\n        vertical-align: middle;\n    }\n\n    .dataframe tbody tr th {\n        vertical-align: top;\n    }\n\n    .dataframe thead th {\n        text-align: right;\n    }\n</style>\n<table border=\"1\" class=\"dataframe\">\n  <thead>\n    <tr style=\"text-align: right;\">\n      <th></th>\n      <th>Accuracy</th>\n      <th>AUC</th>\n      <th>Recall</th>\n      <th>Prec.</th>\n      <th>F1</th>\n      <th>Kappa</th>\n      <th>MCC</th>\n    </tr>\n  </thead>\n  <tbody>\n    <tr>\n      <th>0</th>\n      <td>0.795000</td>\n      <td>0.890238</td>\n      <td>0.633333</td>\n      <td>0.666667</td>\n      <td>0.649573</td>\n      <td>0.504831</td>\n      <td>0.505163</td>\n    </tr>\n    <tr>\n      <th>1</th>\n      <td>0.870000</td>\n      <td>0.954442</td>\n      <td>0.694915</td>\n      <td>0.836735</td>\n      <td>0.759259</td>\n      <td>0.671261</td>\n      <td>0.676691</td>\n    </tr>\n    <tr>\n      <th>2</th>\n      <td>0.820000</td>\n      <td>0.891574</td>\n      <td>0.644068</td>\n      <td>0.716981</td>\n      <td>0.678571</td>\n      <td>0.554069</td>\n      <td>0.555606</td>\n    </tr>\n    <tr>\n      <th>3</th>\n      <td>0.845000</td>\n      <td>0.892295</td>\n      <td>0.711864</td>\n      <td>0.750000</td>\n      <td>0.730435</td>\n      <td>0.621767</td>\n      <td>0.622184</td>\n    </tr>\n    <tr>\n      <th>4</th>\n      <td>0.865000</td>\n      <td>0.928237</td>\n      <td>0.694915</td>\n      <td>0.820000</td>\n      <td>0.752294</td>\n      <td>0.660377</td>\n      <td>0.664650</td>\n    </tr>\n    <tr>\n      <th>Mean</th>\n      <td>0.839000</td>\n      <td>0.911357</td>\n      <td>0.675819</td>\n      <td>0.758076</td>\n      <td>0.714026</td>\n      <td>0.602461</td>\n      <td>0.604859</td>\n    </tr>\n    <tr>\n      <th>SD</th>\n      <td>0.028178</td>\n      <td>0.025853</td>\n      <td>0.031118</td>\n      <td>0.063453</td>\n      <td>0.042874</td>\n      <td>0.063771</td>\n      <td>0.065422</td>\n    </tr>\n  </tbody>\n</table>\n</div>"
     },
     "metadata": {},
     "output_type": "display_data"
    }
   ],
   "source": [
    "stacked_model = stack_models(\n",
    "    estimator_list=tuned_models,\n",
    "    round=6,\n",
    "    restack=False,  # False means only the Predictions of Layer 0 are used to train the final estimator. True uses the basefeatures too.\n",
    "    choose_better=False\n",
    ")"
   ],
   "metadata": {
    "collapsed": false,
    "pycharm": {
     "name": "#%%\n"
    }
   }
  },
  {
   "cell_type": "code",
   "execution_count": 40,
   "outputs": [
    {
     "data": {
      "text/plain": "                 Model  Accuracy       AUC    Recall     Prec.        F1  \\\n0  Stacking Classifier  0.862894  0.920604  0.710173  0.785563  0.745968   \n\n      Kappa       MCC  \n0  0.652404  0.653962  ",
      "text/html": "<div>\n<style scoped>\n    .dataframe tbody tr th:only-of-type {\n        vertical-align: middle;\n    }\n\n    .dataframe tbody tr th {\n        vertical-align: top;\n    }\n\n    .dataframe thead th {\n        text-align: right;\n    }\n</style>\n<table border=\"1\" class=\"dataframe\">\n  <thead>\n    <tr style=\"text-align: right;\">\n      <th></th>\n      <th>Model</th>\n      <th>Accuracy</th>\n      <th>AUC</th>\n      <th>Recall</th>\n      <th>Prec.</th>\n      <th>F1</th>\n      <th>Kappa</th>\n      <th>MCC</th>\n    </tr>\n  </thead>\n  <tbody>\n    <tr>\n      <th>0</th>\n      <td>Stacking Classifier</td>\n      <td>0.862894</td>\n      <td>0.920604</td>\n      <td>0.710173</td>\n      <td>0.785563</td>\n      <td>0.745968</td>\n      <td>0.652404</td>\n      <td>0.653962</td>\n    </tr>\n  </tbody>\n</table>\n</div>"
     },
     "metadata": {},
     "output_type": "display_data"
    },
    {
     "name": "stdout",
     "output_type": "stream",
     "text": [
      "0.8628944504896626\n",
      "                      model  accuracy\n",
      "0  StackingClassifier tuned  0.862894\n"
     ]
    }
   ],
   "source": [
    "predict_df_stacked = predict_model(stacked_model, round=6)\n",
    "print(accuracy_score(predict_df_stacked[\"Label\"], predict_df_stacked[\"y\"]))\n",
    "\n",
    "predict_df_stacked = pd.DataFrame(data={\"model\": [f\"{stacked_model.__class__.__name__} tuned\"], \"accuracy\": [accuracy_score(predict_df_stacked[\"Label\"], predict_df_stacked[\"y\"])]})\n",
    "print(predict_df_stacked)"
   ],
   "metadata": {
    "collapsed": false,
    "pycharm": {
     "name": "#%%\n"
    }
   }
  },
  {
   "cell_type": "code",
   "execution_count": 41,
   "outputs": [],
   "source": [
    "## Make results dataframe"
   ],
   "metadata": {
    "collapsed": false,
    "pycharm": {
     "name": "#%%\n"
    }
   }
  },
  {
   "cell_type": "code",
   "execution_count": 42,
   "outputs": [
    {
     "data": {
      "text/plain": "                          model  accuracy\n0        RandomForestClassifier  0.862894\n1      StackingClassifier tuned  0.862894\n2  RandomForestClassifier tuned  0.852013\n3          KNeighborsClassifier  0.845484\n4    KNeighborsClassifier tuned  0.823177\n5  DecisionTreeClassifier tuned  0.813384\n6        DecisionTreeClassifier  0.812840\n7            LogisticRegression  0.745919\n8      LogisticRegression tuned  0.745919",
      "text/html": "<div>\n<style scoped>\n    .dataframe tbody tr th:only-of-type {\n        vertical-align: middle;\n    }\n\n    .dataframe tbody tr th {\n        vertical-align: top;\n    }\n\n    .dataframe thead th {\n        text-align: right;\n    }\n</style>\n<table border=\"1\" class=\"dataframe\">\n  <thead>\n    <tr style=\"text-align: right;\">\n      <th></th>\n      <th>model</th>\n      <th>accuracy</th>\n    </tr>\n  </thead>\n  <tbody>\n    <tr>\n      <th>0</th>\n      <td>RandomForestClassifier</td>\n      <td>0.862894</td>\n    </tr>\n    <tr>\n      <th>1</th>\n      <td>StackingClassifier tuned</td>\n      <td>0.862894</td>\n    </tr>\n    <tr>\n      <th>2</th>\n      <td>RandomForestClassifier tuned</td>\n      <td>0.852013</td>\n    </tr>\n    <tr>\n      <th>3</th>\n      <td>KNeighborsClassifier</td>\n      <td>0.845484</td>\n    </tr>\n    <tr>\n      <th>4</th>\n      <td>KNeighborsClassifier tuned</td>\n      <td>0.823177</td>\n    </tr>\n    <tr>\n      <th>5</th>\n      <td>DecisionTreeClassifier tuned</td>\n      <td>0.813384</td>\n    </tr>\n    <tr>\n      <th>6</th>\n      <td>DecisionTreeClassifier</td>\n      <td>0.812840</td>\n    </tr>\n    <tr>\n      <th>7</th>\n      <td>LogisticRegression</td>\n      <td>0.745919</td>\n    </tr>\n    <tr>\n      <th>8</th>\n      <td>LogisticRegression tuned</td>\n      <td>0.745919</td>\n    </tr>\n  </tbody>\n</table>\n</div>"
     },
     "execution_count": 42,
     "metadata": {},
     "output_type": "execute_result"
    }
   ],
   "source": [
    "caret_results_df = pd.concat([predict_df, predict_df_tuned, predict_df_stacked]).sort_values(by=\"accuracy\", ascending=False).reset_index(drop=True)\n",
    "caret_results_df"
   ],
   "metadata": {
    "collapsed": false,
    "pycharm": {
     "name": "#%%\n"
    }
   }
  }
 ],
 "metadata": {
  "kernelspec": {
   "display_name": "Python 3",
   "language": "python",
   "name": "python3"
  },
  "language_info": {
   "codemirror_mode": {
    "name": "ipython",
    "version": 2
   },
   "file_extension": ".py",
   "mimetype": "text/x-python",
   "name": "python",
   "nbconvert_exporter": "python",
   "pygments_lexer": "ipython2",
   "version": "2.7.6"
  }
 },
 "nbformat": 4,
 "nbformat_minor": 0
}